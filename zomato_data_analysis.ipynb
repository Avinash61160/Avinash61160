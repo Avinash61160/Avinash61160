{
 "cells": [
  {
   "cell_type": "markdown",
   "metadata": {},
   "source": [
    "# ZOMATO DATA ANALYSIS\n",
    "\n",
    "I got the very interesting zomato data for the city Pune, we have lots of features telling lots of stories about the food habits in pune.\n",
    "I am curious to know the answers of some of the questions like...\n",
    "\n",
    "\n",
    "<b>\n",
    "    \n",
    "Ques-1 Which are the best rated restaurants in Pune?\n",
    "\n",
    "Ques-2 Which is the best rated location for food in Pune?\n",
    "\n",
    "Ques-3 What is most liked cuisine in Pune?\n",
    "\n",
    "Ques-4 Which are the cheap but best restaurants in Pune?\n",
    "\n",
    "Ques-5 Which restaurant serves the best \"BIRYANI\" in Pune?\n",
    "\n",
    "Ques-6 Baner being my favourite place in Pune, Which are the best restaurants in Baner?\n",
    "    \n",
    "</b>\n",
    "\n",
    "and so many other questions i have...\n",
    "    \n",
    "\n",
    "\n",
    "\n",
    "Lets explore this data and try to find the answers of these questions...\n"
   ]
  },
  {
   "cell_type": "code",
   "execution_count": 2,
   "metadata": {},
   "outputs": [],
   "source": [
    "#importing libraries\n",
    "import numpy as np \n",
    "import pandas as pd # data processing, CSV file I/O (e.g. pd.read_csv)\n",
    "import seaborn as sns\n",
    "import matplotlib.pyplot as plt\n",
    "\n",
    "\n",
    "\n"
   ]
  },
  {
   "cell_type": "code",
   "execution_count": 4,
   "metadata": {},
   "outputs": [],
   "source": [
    "#removing warnings\n",
    "import warnings\n",
    "warnings.filterwarnings('ignore')"
   ]
  },
  {
   "cell_type": "code",
   "execution_count": 5,
   "metadata": {},
   "outputs": [
    {
     "data": {
      "text/html": [
       "<div>\n",
       "<style scoped>\n",
       "    .dataframe tbody tr th:only-of-type {\n",
       "        vertical-align: middle;\n",
       "    }\n",
       "\n",
       "    .dataframe tbody tr th {\n",
       "        vertical-align: top;\n",
       "    }\n",
       "\n",
       "    .dataframe thead th {\n",
       "        text-align: right;\n",
       "    }\n",
       "</style>\n",
       "<table border=\"1\" class=\"dataframe\">\n",
       "  <thead>\n",
       "    <tr style=\"text-align: right;\">\n",
       "      <th></th>\n",
       "      <th>link</th>\n",
       "      <th>rest_name</th>\n",
       "      <th>rest_type</th>\n",
       "      <th>loc</th>\n",
       "      <th>dine_rating</th>\n",
       "      <th>dine_reviews</th>\n",
       "      <th>delivery_rating</th>\n",
       "      <th>delivery_reviews</th>\n",
       "      <th>cuisine</th>\n",
       "      <th>Unnamed: 9</th>\n",
       "      <th>Cost (RS)</th>\n",
       "      <th>cost</th>\n",
       "      <th>liked</th>\n",
       "    </tr>\n",
       "  </thead>\n",
       "  <tbody>\n",
       "    <tr>\n",
       "      <th>0</th>\n",
       "      <td>https://www.zomato.com/pune/mix@36-the-westin-...</td>\n",
       "      <td>Mix@36 - The Westin\\r\\r\\n                     ...</td>\n",
       "      <td>Lounge</td>\n",
       "      <td>The Westin, Mundhwa</td>\n",
       "      <td>4.2</td>\n",
       "      <td>(707 Reviews)</td>\n",
       "      <td>NaN</td>\n",
       "      <td>NaN</td>\n",
       "      <td>North Indian,Continental,Asian,Finger Food,</td>\n",
       "      <td>NaN</td>\n",
       "      <td>4300</td>\n",
       "      <td>Rs. 4300</td>\n",
       "      <td>Cocktails, Chaat, Beer</td>\n",
       "    </tr>\n",
       "    <tr>\n",
       "      <th>1</th>\n",
       "      <td>https://www.zomato.com/pune/kangan-the-westin-...</td>\n",
       "      <td>Kangan - The Westin\\r\\r\\n                     ...</td>\n",
       "      <td>Fine Dining</td>\n",
       "      <td>The Westin, Mundhwa</td>\n",
       "      <td>4.1</td>\n",
       "      <td>(344 Reviews)</td>\n",
       "      <td>NaN</td>\n",
       "      <td>NaN</td>\n",
       "      <td>North Indian,Mughlai,</td>\n",
       "      <td>NaN</td>\n",
       "      <td>3500</td>\n",
       "      <td>Rs. 3500</td>\n",
       "      <td>Biryani, Veg Platter, Dal Makhani, Butter Chic...</td>\n",
       "    </tr>\n",
       "    <tr>\n",
       "      <th>2</th>\n",
       "      <td>https://www.zomato.com/pune/coriander-kitchen-...</td>\n",
       "      <td>Coriander Kitchen - Conrad Pune\\r\\r\\n         ...</td>\n",
       "      <td>Fine Dining</td>\n",
       "      <td>Conrad Pune, Bund Garden Road</td>\n",
       "      <td>4.5</td>\n",
       "      <td>(541 Reviews)</td>\n",
       "      <td>NaN</td>\n",
       "      <td>NaN</td>\n",
       "      <td>Mediterranean,Asian,North Indian,</td>\n",
       "      <td>NaN</td>\n",
       "      <td>3200</td>\n",
       "      <td>Rs. 3200</td>\n",
       "      <td>Pasta, Panipuri, Waffles, Pizza, Salad, Chaat,...</td>\n",
       "    </tr>\n",
       "    <tr>\n",
       "      <th>3</th>\n",
       "      <td>https://www.zomato.com/pune/the-market-the-wes...</td>\n",
       "      <td>The Market - The Westin\\r\\r\\n                 ...</td>\n",
       "      <td>Fine Dining</td>\n",
       "      <td>The Westin, Mundhwa</td>\n",
       "      <td>4.0</td>\n",
       "      <td>(55 Reviews)</td>\n",
       "      <td>NaN</td>\n",
       "      <td>NaN</td>\n",
       "      <td>Asian,European,North Indian,</td>\n",
       "      <td>NaN</td>\n",
       "      <td>3200</td>\n",
       "      <td>Rs. 3200</td>\n",
       "      <td>Vanilla Ice Cream, Chaat, Sushi</td>\n",
       "    </tr>\n",
       "    <tr>\n",
       "      <th>4</th>\n",
       "      <td>https://www.zomato.com/pune/vandaag-vivanta-pu...</td>\n",
       "      <td>Vandaag - Vivanta Pune\\r\\r\\n                  ...</td>\n",
       "      <td>Pub,Casual Dining</td>\n",
       "      <td>Vivanta Pune, Hinjewadi</td>\n",
       "      <td>3.9</td>\n",
       "      <td>(113 Reviews)</td>\n",
       "      <td>NaN</td>\n",
       "      <td>NaN</td>\n",
       "      <td>Finger Food,Continental,</td>\n",
       "      <td>NaN</td>\n",
       "      <td>3100</td>\n",
       "      <td>Rs. 3100</td>\n",
       "      <td>Cocktails, Beer, Peri Peri Chicken, Fish, Veg ...</td>\n",
       "    </tr>\n",
       "    <tr>\n",
       "      <th>5</th>\n",
       "      <td>https://www.zomato.com/pune/baan-tao-hyatt-pun...</td>\n",
       "      <td>Baan Tao - Hyatt Pune\\r\\r\\n                   ...</td>\n",
       "      <td>Fine Dining</td>\n",
       "      <td>Hyatt Pune, Nagar Road</td>\n",
       "      <td>4.5</td>\n",
       "      <td>(739 Reviews)</td>\n",
       "      <td>NaN</td>\n",
       "      <td>NaN</td>\n",
       "      <td>Salad,Asian,Malaysian,Vietnamese,Thai,Chinese,</td>\n",
       "      <td>NaN</td>\n",
       "      <td>3000</td>\n",
       "      <td>Rs. 3000</td>\n",
       "      <td>Sushi, Salad, Dumplings, Tom Yum Soup, Dimsum ...</td>\n",
       "    </tr>\n",
       "    <tr>\n",
       "      <th>6</th>\n",
       "      <td>https://www.zomato.com/pune/zeera-conrad-pune-...</td>\n",
       "      <td>Zeera - Conrad Pune\\r\\r\\n                     ...</td>\n",
       "      <td>Fine Dining</td>\n",
       "      <td>Conrad Pune, Bund Garden Road</td>\n",
       "      <td>4.1</td>\n",
       "      <td>(159 Reviews)</td>\n",
       "      <td>NaN</td>\n",
       "      <td>NaN</td>\n",
       "      <td>North Indian,</td>\n",
       "      <td>NaN</td>\n",
       "      <td>3000</td>\n",
       "      <td>Rs. 3000</td>\n",
       "      <td>Paan Ice Cream, Biryani, Coffee, Pindi Chole, ...</td>\n",
       "    </tr>\n",
       "    <tr>\n",
       "      <th>7</th>\n",
       "      <td>https://www.zomato.com/pune/koji-conrad-pune-b...</td>\n",
       "      <td>Koji - Conrad Pune\\r\\r\\n                      ...</td>\n",
       "      <td>Fine Dining</td>\n",
       "      <td>Conrad Pune, Bund Garden Road</td>\n",
       "      <td>4.1</td>\n",
       "      <td>(199 Reviews)</td>\n",
       "      <td>NaN</td>\n",
       "      <td>NaN</td>\n",
       "      <td>Thai,Japanese,Chinese,</td>\n",
       "      <td>NaN</td>\n",
       "      <td>3000</td>\n",
       "      <td>Rs. 3000</td>\n",
       "      <td>Sushi, Cocktails, Salmon, Chicken Clay Pot, Ku...</td>\n",
       "    </tr>\n",
       "    <tr>\n",
       "      <th>8</th>\n",
       "      <td>https://www.zomato.com/pune/feast-sheraton-gra...</td>\n",
       "      <td>Feast - Sheraton Grand\\r\\r\\n                  ...</td>\n",
       "      <td>Fine Dining</td>\n",
       "      <td>Sheraton Grand, Bund Garden Road</td>\n",
       "      <td>4.5</td>\n",
       "      <td>(577 Reviews)</td>\n",
       "      <td>NaN</td>\n",
       "      <td>NaN</td>\n",
       "      <td>European,Asian,North Indian,</td>\n",
       "      <td>NaN</td>\n",
       "      <td>3000</td>\n",
       "      <td>Rs. 3000</td>\n",
       "      <td>Pasta, Salad, Sea Food, Coffee, Paan Ice Cream...</td>\n",
       "    </tr>\n",
       "    <tr>\n",
       "      <th>9</th>\n",
       "      <td>https://www.zomato.com/pune/aasmana-the-ritz-c...</td>\n",
       "      <td>Aasmana: The Ritz-Carlton\\r\\r\\n               ...</td>\n",
       "      <td>Fine Dining</td>\n",
       "      <td>Ritz Carlton, Yerwada</td>\n",
       "      <td>3.7</td>\n",
       "      <td>(22 Reviews)</td>\n",
       "      <td>NaN</td>\n",
       "      <td>NaN</td>\n",
       "      <td>Mughlai,Biryani,Kebab,North Indian,</td>\n",
       "      <td>NaN</td>\n",
       "      <td>3000</td>\n",
       "      <td>Rs. 3000</td>\n",
       "      <td>NaN</td>\n",
       "    </tr>\n",
       "  </tbody>\n",
       "</table>\n",
       "</div>"
      ],
      "text/plain": [
       "                                                link  \\\n",
       "0  https://www.zomato.com/pune/mix@36-the-westin-...   \n",
       "1  https://www.zomato.com/pune/kangan-the-westin-...   \n",
       "2  https://www.zomato.com/pune/coriander-kitchen-...   \n",
       "3  https://www.zomato.com/pune/the-market-the-wes...   \n",
       "4  https://www.zomato.com/pune/vandaag-vivanta-pu...   \n",
       "5  https://www.zomato.com/pune/baan-tao-hyatt-pun...   \n",
       "6  https://www.zomato.com/pune/zeera-conrad-pune-...   \n",
       "7  https://www.zomato.com/pune/koji-conrad-pune-b...   \n",
       "8  https://www.zomato.com/pune/feast-sheraton-gra...   \n",
       "9  https://www.zomato.com/pune/aasmana-the-ritz-c...   \n",
       "\n",
       "                                           rest_name          rest_type  \\\n",
       "0  Mix@36 - The Westin\\r\\r\\n                     ...             Lounge   \n",
       "1  Kangan - The Westin\\r\\r\\n                     ...        Fine Dining   \n",
       "2  Coriander Kitchen - Conrad Pune\\r\\r\\n         ...        Fine Dining   \n",
       "3  The Market - The Westin\\r\\r\\n                 ...        Fine Dining   \n",
       "4  Vandaag - Vivanta Pune\\r\\r\\n                  ...  Pub,Casual Dining   \n",
       "5  Baan Tao - Hyatt Pune\\r\\r\\n                   ...        Fine Dining   \n",
       "6  Zeera - Conrad Pune\\r\\r\\n                     ...        Fine Dining   \n",
       "7  Koji - Conrad Pune\\r\\r\\n                      ...        Fine Dining   \n",
       "8  Feast - Sheraton Grand\\r\\r\\n                  ...        Fine Dining   \n",
       "9  Aasmana: The Ritz-Carlton\\r\\r\\n               ...        Fine Dining   \n",
       "\n",
       "                                loc  dine_rating   dine_reviews  \\\n",
       "0               The Westin, Mundhwa          4.2  (707 Reviews)   \n",
       "1               The Westin, Mundhwa          4.1  (344 Reviews)   \n",
       "2     Conrad Pune, Bund Garden Road          4.5  (541 Reviews)   \n",
       "3               The Westin, Mundhwa          4.0   (55 Reviews)   \n",
       "4           Vivanta Pune, Hinjewadi          3.9  (113 Reviews)   \n",
       "5            Hyatt Pune, Nagar Road          4.5  (739 Reviews)   \n",
       "6     Conrad Pune, Bund Garden Road          4.1  (159 Reviews)   \n",
       "7     Conrad Pune, Bund Garden Road          4.1  (199 Reviews)   \n",
       "8  Sheraton Grand, Bund Garden Road          4.5  (577 Reviews)   \n",
       "9             Ritz Carlton, Yerwada          3.7   (22 Reviews)   \n",
       "\n",
       "   delivery_rating delivery_reviews  \\\n",
       "0              NaN              NaN   \n",
       "1              NaN              NaN   \n",
       "2              NaN              NaN   \n",
       "3              NaN              NaN   \n",
       "4              NaN              NaN   \n",
       "5              NaN              NaN   \n",
       "6              NaN              NaN   \n",
       "7              NaN              NaN   \n",
       "8              NaN              NaN   \n",
       "9              NaN              NaN   \n",
       "\n",
       "                                          cuisine  Unnamed: 9  Cost (RS)  \\\n",
       "0     North Indian,Continental,Asian,Finger Food,         NaN       4300   \n",
       "1                           North Indian,Mughlai,         NaN       3500   \n",
       "2               Mediterranean,Asian,North Indian,         NaN       3200   \n",
       "3                    Asian,European,North Indian,         NaN       3200   \n",
       "4                        Finger Food,Continental,         NaN       3100   \n",
       "5  Salad,Asian,Malaysian,Vietnamese,Thai,Chinese,         NaN       3000   \n",
       "6                                   North Indian,         NaN       3000   \n",
       "7                          Thai,Japanese,Chinese,         NaN       3000   \n",
       "8                    European,Asian,North Indian,         NaN       3000   \n",
       "9             Mughlai,Biryani,Kebab,North Indian,         NaN       3000   \n",
       "\n",
       "       cost                                              liked  \n",
       "0  Rs. 4300                             Cocktails, Chaat, Beer  \n",
       "1  Rs. 3500  Biryani, Veg Platter, Dal Makhani, Butter Chic...  \n",
       "2  Rs. 3200  Pasta, Panipuri, Waffles, Pizza, Salad, Chaat,...  \n",
       "3  Rs. 3200                    Vanilla Ice Cream, Chaat, Sushi  \n",
       "4  Rs. 3100  Cocktails, Beer, Peri Peri Chicken, Fish, Veg ...  \n",
       "5  Rs. 3000  Sushi, Salad, Dumplings, Tom Yum Soup, Dimsum ...  \n",
       "6  Rs. 3000  Paan Ice Cream, Biryani, Coffee, Pindi Chole, ...  \n",
       "7  Rs. 3000  Sushi, Cocktails, Salmon, Chicken Clay Pot, Ku...  \n",
       "8  Rs. 3000  Pasta, Salad, Sea Food, Coffee, Paan Ice Cream...  \n",
       "9  Rs. 3000                                                NaN  "
      ]
     },
     "execution_count": 5,
     "metadata": {},
     "output_type": "execute_result"
    }
   ],
   "source": [
    "#loading the csv file\n",
    "df= pd.read_csv(\"./zomato_outlet_final (11).csv\")\n",
    "df.head(10) "
   ]
  },
  {
   "cell_type": "code",
   "execution_count": 6,
   "metadata": {},
   "outputs": [
    {
     "data": {
      "text/plain": [
       "Index(['link', 'rest_name', 'rest_type', 'loc', 'dine_rating', 'dine_reviews',\n",
       "       'delivery_rating', 'delivery_reviews', 'cuisine', 'Unnamed: 9',\n",
       "       'Cost (RS)', 'cost', 'liked'],\n",
       "      dtype='object')"
      ]
     },
     "execution_count": 6,
     "metadata": {},
     "output_type": "execute_result"
    }
   ],
   "source": [
    "df.columns"
   ]
  },
  {
   "cell_type": "code",
   "execution_count": 7,
   "metadata": {},
   "outputs": [
    {
     "data": {
      "text/html": [
       "<div>\n",
       "<style scoped>\n",
       "    .dataframe tbody tr th:only-of-type {\n",
       "        vertical-align: middle;\n",
       "    }\n",
       "\n",
       "    .dataframe tbody tr th {\n",
       "        vertical-align: top;\n",
       "    }\n",
       "\n",
       "    .dataframe thead th {\n",
       "        text-align: right;\n",
       "    }\n",
       "</style>\n",
       "<table border=\"1\" class=\"dataframe\">\n",
       "  <thead>\n",
       "    <tr style=\"text-align: right;\">\n",
       "      <th></th>\n",
       "      <th>rest_name</th>\n",
       "      <th>rest_type</th>\n",
       "      <th>loc</th>\n",
       "      <th>dine_rating</th>\n",
       "      <th>dine_reviews</th>\n",
       "      <th>delivery_rating</th>\n",
       "      <th>delivery_reviews</th>\n",
       "      <th>cuisine</th>\n",
       "      <th>Cost (RS)</th>\n",
       "      <th>cost</th>\n",
       "      <th>liked</th>\n",
       "    </tr>\n",
       "  </thead>\n",
       "  <tbody>\n",
       "    <tr>\n",
       "      <th>0</th>\n",
       "      <td>Mix@36 - The Westin\\r\\r\\n                     ...</td>\n",
       "      <td>Lounge</td>\n",
       "      <td>The Westin, Mundhwa</td>\n",
       "      <td>4.2</td>\n",
       "      <td>(707 Reviews)</td>\n",
       "      <td>NaN</td>\n",
       "      <td>NaN</td>\n",
       "      <td>North Indian,Continental,Asian,Finger Food,</td>\n",
       "      <td>4300</td>\n",
       "      <td>Rs. 4300</td>\n",
       "      <td>Cocktails, Chaat, Beer</td>\n",
       "    </tr>\n",
       "    <tr>\n",
       "      <th>1</th>\n",
       "      <td>Kangan - The Westin\\r\\r\\n                     ...</td>\n",
       "      <td>Fine Dining</td>\n",
       "      <td>The Westin, Mundhwa</td>\n",
       "      <td>4.1</td>\n",
       "      <td>(344 Reviews)</td>\n",
       "      <td>NaN</td>\n",
       "      <td>NaN</td>\n",
       "      <td>North Indian,Mughlai,</td>\n",
       "      <td>3500</td>\n",
       "      <td>Rs. 3500</td>\n",
       "      <td>Biryani, Veg Platter, Dal Makhani, Butter Chic...</td>\n",
       "    </tr>\n",
       "    <tr>\n",
       "      <th>2</th>\n",
       "      <td>Coriander Kitchen - Conrad Pune\\r\\r\\n         ...</td>\n",
       "      <td>Fine Dining</td>\n",
       "      <td>Conrad Pune, Bund Garden Road</td>\n",
       "      <td>4.5</td>\n",
       "      <td>(541 Reviews)</td>\n",
       "      <td>NaN</td>\n",
       "      <td>NaN</td>\n",
       "      <td>Mediterranean,Asian,North Indian,</td>\n",
       "      <td>3200</td>\n",
       "      <td>Rs. 3200</td>\n",
       "      <td>Pasta, Panipuri, Waffles, Pizza, Salad, Chaat,...</td>\n",
       "    </tr>\n",
       "    <tr>\n",
       "      <th>3</th>\n",
       "      <td>The Market - The Westin\\r\\r\\n                 ...</td>\n",
       "      <td>Fine Dining</td>\n",
       "      <td>The Westin, Mundhwa</td>\n",
       "      <td>4.0</td>\n",
       "      <td>(55 Reviews)</td>\n",
       "      <td>NaN</td>\n",
       "      <td>NaN</td>\n",
       "      <td>Asian,European,North Indian,</td>\n",
       "      <td>3200</td>\n",
       "      <td>Rs. 3200</td>\n",
       "      <td>Vanilla Ice Cream, Chaat, Sushi</td>\n",
       "    </tr>\n",
       "    <tr>\n",
       "      <th>4</th>\n",
       "      <td>Vandaag - Vivanta Pune\\r\\r\\n                  ...</td>\n",
       "      <td>Pub,Casual Dining</td>\n",
       "      <td>Vivanta Pune, Hinjewadi</td>\n",
       "      <td>3.9</td>\n",
       "      <td>(113 Reviews)</td>\n",
       "      <td>NaN</td>\n",
       "      <td>NaN</td>\n",
       "      <td>Finger Food,Continental,</td>\n",
       "      <td>3100</td>\n",
       "      <td>Rs. 3100</td>\n",
       "      <td>Cocktails, Beer, Peri Peri Chicken, Fish, Veg ...</td>\n",
       "    </tr>\n",
       "  </tbody>\n",
       "</table>\n",
       "</div>"
      ],
      "text/plain": [
       "                                           rest_name          rest_type  \\\n",
       "0  Mix@36 - The Westin\\r\\r\\n                     ...             Lounge   \n",
       "1  Kangan - The Westin\\r\\r\\n                     ...        Fine Dining   \n",
       "2  Coriander Kitchen - Conrad Pune\\r\\r\\n         ...        Fine Dining   \n",
       "3  The Market - The Westin\\r\\r\\n                 ...        Fine Dining   \n",
       "4  Vandaag - Vivanta Pune\\r\\r\\n                  ...  Pub,Casual Dining   \n",
       "\n",
       "                             loc  dine_rating   dine_reviews  delivery_rating  \\\n",
       "0            The Westin, Mundhwa          4.2  (707 Reviews)              NaN   \n",
       "1            The Westin, Mundhwa          4.1  (344 Reviews)              NaN   \n",
       "2  Conrad Pune, Bund Garden Road          4.5  (541 Reviews)              NaN   \n",
       "3            The Westin, Mundhwa          4.0   (55 Reviews)              NaN   \n",
       "4        Vivanta Pune, Hinjewadi          3.9  (113 Reviews)              NaN   \n",
       "\n",
       "  delivery_reviews                                      cuisine  Cost (RS)  \\\n",
       "0              NaN  North Indian,Continental,Asian,Finger Food,       4300   \n",
       "1              NaN                        North Indian,Mughlai,       3500   \n",
       "2              NaN            Mediterranean,Asian,North Indian,       3200   \n",
       "3              NaN                 Asian,European,North Indian,       3200   \n",
       "4              NaN                     Finger Food,Continental,       3100   \n",
       "\n",
       "       cost                                              liked  \n",
       "0  Rs. 4300                             Cocktails, Chaat, Beer  \n",
       "1  Rs. 3500  Biryani, Veg Platter, Dal Makhani, Butter Chic...  \n",
       "2  Rs. 3200  Pasta, Panipuri, Waffles, Pizza, Salad, Chaat,...  \n",
       "3  Rs. 3200                    Vanilla Ice Cream, Chaat, Sushi  \n",
       "4  Rs. 3100  Cocktails, Beer, Peri Peri Chicken, Fish, Veg ...  "
      ]
     },
     "execution_count": 7,
     "metadata": {},
     "output_type": "execute_result"
    }
   ],
   "source": [
    "#removing the unncessary column \"link\"\n",
    "df=df.drop(['link','Unnamed: 9'],axis=1)\n",
    "df.head()"
   ]
  },
  {
   "cell_type": "code",
   "execution_count": 8,
   "metadata": {
    "scrolled": true
   },
   "outputs": [
    {
     "data": {
      "text/plain": [
       "(5433, 11)"
      ]
     },
     "execution_count": 8,
     "metadata": {},
     "output_type": "execute_result"
    }
   ],
   "source": [
    "#we have 5433 restaurats in our data, including small tapris, medium size restaurants,\n",
    "#Bakeries, Dessert Parlours, Cake Shops, Bars, Big Restaurants, Casual Dinings etc.\n",
    "df.shape"
   ]
  },
  {
   "cell_type": "code",
   "execution_count": 9,
   "metadata": {
    "scrolled": true
   },
   "outputs": [
    {
     "name": "stdout",
     "output_type": "stream",
     "text": [
      "<class 'pandas.core.frame.DataFrame'>\n",
      "RangeIndex: 5433 entries, 0 to 5432\n",
      "Data columns (total 11 columns):\n",
      " #   Column            Non-Null Count  Dtype  \n",
      "---  ------            --------------  -----  \n",
      " 0   rest_name         5433 non-null   object \n",
      " 1   rest_type         4336 non-null   object \n",
      " 2   loc               5433 non-null   object \n",
      " 3   dine_rating       5433 non-null   float64\n",
      " 4   dine_reviews      4829 non-null   object \n",
      " 5   delivery_rating   2539 non-null   float64\n",
      " 6   delivery_reviews  2539 non-null   object \n",
      " 7   cuisine           5433 non-null   object \n",
      " 8   Cost (RS)         5433 non-null   int64  \n",
      " 9   cost              5433 non-null   object \n",
      " 10  liked             2603 non-null   object \n",
      "dtypes: float64(2), int64(1), object(8)\n",
      "memory usage: 467.0+ KB\n"
     ]
    }
   ],
   "source": [
    "df.info()"
   ]
  },
  {
   "cell_type": "markdown",
   "metadata": {},
   "source": [
    "We have some null values in some colums, we will handle them step by step"
   ]
  },
  {
   "cell_type": "code",
   "execution_count": 10,
   "metadata": {},
   "outputs": [
    {
     "data": {
      "text/plain": [
       "250"
      ]
     },
     "execution_count": 10,
     "metadata": {},
     "output_type": "execute_result"
    }
   ],
   "source": [
    "# lets find the duplicates in the data\n",
    "\n",
    "df.duplicated().sum()\n"
   ]
  },
  {
   "cell_type": "code",
   "execution_count": 11,
   "metadata": {},
   "outputs": [
    {
     "data": {
      "text/plain": [
       "(5183, 11)"
      ]
     },
     "execution_count": 11,
     "metadata": {},
     "output_type": "execute_result"
    }
   ],
   "source": [
    "#we have 250 rows which are duplicates, lets remove the duplicate values\n",
    "\n",
    "df=df.drop_duplicates()\n",
    "df.shape\n",
    "\n",
    "#after removing duplicate rows, we got 5183 restaurants in our dataset"
   ]
  },
  {
   "cell_type": "markdown",
   "metadata": {},
   "source": [
    "# Exploratory Data Analysis\n",
    "\n",
    "Lets do the EDA on Zomato to understand the data in depth.\n",
    "\n",
    "We gonna do Univariate Data Analysis and Bivariate Data Analysis\n",
    "\n"
   ]
  },
  {
   "cell_type": "markdown",
   "metadata": {},
   "source": [
    "# FEATURE-1(dine_rating)"
   ]
  },
  {
   "cell_type": "code",
   "execution_count": 12,
   "metadata": {},
   "outputs": [
    {
     "data": {
      "text/plain": [
       "Text(0, 0.5, 'count of restaurants')"
      ]
     },
     "execution_count": 12,
     "metadata": {},
     "output_type": "execute_result"
    },
    {
     "data": {
      "image/png": "[encoded data removed]",
      "text/plain": [
       "<Figure size 432x288 with 1 Axes>"
      ]
     },
     "metadata": {
      "needs_background": "light"
     },
     "output_type": "display_data"
    }
   ],
   "source": [
    "#lets plot the histogram\n",
    "plt.hist(df['dine_rating'])\n",
    "plt.xlabel(\"dine_rating\")#\n",
    "plt.ylabel(\"count of restaurants\")\n",
    "\n",
    "\n"
   ]
  },
  {
   "cell_type": "markdown",
   "metadata": {},
   "source": [
    "# OBSERVATIONS\n",
    "\n",
    "1.More than 500 restaurnants have 0 ratings\n",
    "\n",
    "2.Most of the restaurants got rating between 3.5 to 4 and thats a good news for zomato.\n",
    "\n",
    "3.There are no restaurants which got 1 as a rating in our data."
   ]
  },
  {
   "cell_type": "code",
   "execution_count": 13,
   "metadata": {},
   "outputs": [
    {
     "data": {
      "image/png": "[encoded data removed]",
      "text/plain": [
       "<Figure size 368x360 with 1 Axes>"
      ]
     },
     "metadata": {
      "needs_background": "light"
     },
     "output_type": "display_data"
    }
   ],
   "source": [
    "#probability density function\n",
    "\n",
    "sns.FacetGrid(df, size=5) \\\n",
    "   .map(sns.distplot, \"dine_rating\",kde='True') \\\n",
    "   .add_legend()\n",
    "plt.show()"
   ]
  },
  {
   "cell_type": "code",
   "execution_count": 14,
   "metadata": {},
   "outputs": [
    {
     "data": {
      "text/plain": [
       "<AxesSubplot:xlabel='dine_rating', ylabel='Count'>"
      ]
     },
     "execution_count": 14,
     "metadata": {},
     "output_type": "execute_result"
    },
    {
     "data": {
      "image/png": "[encoded data removed]",
      "text/plain": [
       "<Figure size 1080x720 with 1 Axes>"
      ]
     },
     "metadata": {
      "needs_background": "light"
     },
     "output_type": "display_data"
    }
   ],
   "source": [
    "#bar plot\n",
    "dine=df['dine_rating'].value_counts()\n",
    "plt.figure(figsize=(15,10))\n",
    "\n",
    "plt.xlabel(\"dine_rating\")\n",
    "plt.ylabel(\"Count\")\n",
    "sns.barplot(dine.index,dine.values)"
   ]
  },
  {
   "cell_type": "markdown",
   "metadata": {},
   "source": [
    "# Observation\n",
    "\n",
    "1. Most of the customers have ordered 3.9 rating.\n",
    "\n",
    "\n",
    "2. There are lots of restaurants which got 0 ratings.\n",
    "\n"
   ]
  },
  {
   "cell_type": "code",
   "execution_count": 15,
   "metadata": {},
   "outputs": [
    {
     "data": {
      "text/plain": [
       "<AxesSubplot:xlabel='dine_rating'>"
      ]
     },
     "execution_count": 15,
     "metadata": {},
     "output_type": "execute_result"
    },
    {
     "data": {
      "image/png": "[encoded data removed]",
      "text/plain": [
       "<Figure size 432x288 with 1 Axes>"
      ]
     },
     "metadata": {
      "needs_background": "light"
     },
     "output_type": "display_data"
    }
   ],
   "source": [
    "#box plot\n",
    "\n",
    "sns.boxplot(df['dine_rating'])"
   ]
  },
  {
   "cell_type": "markdown",
   "metadata": {},
   "source": [
    "# Observation\n",
    "\n",
    "1. 25% of the dine ratings on zomato is less than 3.\n",
    "\n",
    "\n",
    "2. 50% of the dine ratings on zomato is approximately less tha 3.8.\n",
    "\n",
    "\n",
    "3. 75% of the dine rating on zomato is less than 4.\n",
    "\n",
    "\n",
    "4. 50% of the restaurants have rating between 3 to 4 and thats a good news for a company like Zomato."
   ]
  },
  {
   "cell_type": "markdown",
   "metadata": {},
   "source": [
    "# Feature-2(Rest_type- Restaurant_type)"
   ]
  },
  {
   "cell_type": "code",
   "execution_count": 16,
   "metadata": {},
   "outputs": [
    {
     "name": "stdout",
     "output_type": "stream",
     "text": [
      "67\n"
     ]
    }
   ],
   "source": [
    "print(len(df['rest_type'].unique()))"
   ]
  },
  {
   "cell_type": "markdown",
   "metadata": {},
   "source": [
    "There are 67 types of restaurant types in pune"
   ]
  },
  {
   "cell_type": "code",
   "execution_count": 17,
   "metadata": {
    "scrolled": true
   },
   "outputs": [
    {
     "data": {
      "text/plain": [
       "Quick Bites                   1467\n",
       "Casual Dining                  911\n",
       "Bakery                         329\n",
       "Dessert Parlor                 308\n",
       "Casual Dining,Bar              241\n",
       "                              ... \n",
       "Casual Dining,Bakery             1\n",
       "Kiosk,Quick Bites                1\n",
       "Dhaba,Bar                        1\n",
       "Microbrewery,Casual Dining       1\n",
       "Paan Shop                        1\n",
       "Name: rest_type, Length: 66, dtype: int64"
      ]
     },
     "execution_count": 17,
     "metadata": {},
     "output_type": "execute_result"
    }
   ],
   "source": [
    "#lets count the number of each Type\n",
    "df['rest_type'].value_counts()"
   ]
  },
  {
   "cell_type": "markdown",
   "metadata": {},
   "source": [
    "# Which Types of restaurants are leaders in pune?"
   ]
  },
  {
   "cell_type": "code",
   "execution_count": 18,
   "metadata": {},
   "outputs": [
    {
     "name": "stdout",
     "output_type": "stream",
     "text": [
      "Quick Bites              1467\n",
      "Casual Dining             911\n",
      "Bakery                    329\n",
      "Dessert Parlor            308\n",
      "Casual Dining,Bar         241\n",
      "Café                      204\n",
      "Bar,Casual Dining         126\n",
      "Bakery,Dessert Parlor      69\n",
      "Sweet Shop                 54\n",
      "Beverage Shop              54\n",
      "Name: rest_type, dtype: int64\n"
     ]
    }
   ],
   "source": [
    "rest_type_values=df['rest_type'].value_counts()[:10]\n",
    "print(rest_type_values)"
   ]
  },
  {
   "cell_type": "code",
   "execution_count": 19,
   "metadata": {},
   "outputs": [
    {
     "data": {
      "text/plain": [
       "<AxesSubplot:xlabel='rest_type'>"
      ]
     },
     "execution_count": 19,
     "metadata": {},
     "output_type": "execute_result"
    },
    {
     "data": {
      "image/png": "[encoded data removed]",
      "text/plain": [
       "<Figure size 1080x576 with 1 Axes>"
      ]
     },
     "metadata": {
      "needs_background": "light"
     },
     "output_type": "display_data"
    }
   ],
   "source": [
    "plt.figure(figsize=(15,8))\n",
    "\n",
    "sns.barplot(rest_type_values,rest_type_values.index)"
   ]
  },
  {
   "cell_type": "markdown",
   "metadata": {},
   "source": [
    "We can see, there are mostly quick bites restaurants, followed by casual dining and bakery"
   ]
  },
  {
   "cell_type": "code",
   "execution_count": 20,
   "metadata": {},
   "outputs": [
    {
     "data": {
      "text/plain": [
       "(-1.115966210982468,\n",
       " 1.1007602957610698,\n",
       " -1.1045741430922396,\n",
       " 1.1200009987171933)"
      ]
     },
     "execution_count": 20,
     "metadata": {},
     "output_type": "execute_result"
    },
    {
     "data": {
      "image/png": "[encoded data removed]",
      "text/plain": [
       "<Figure size 432x288 with 1 Axes>"
      ]
     },
     "metadata": {},
     "output_type": "display_data"
    }
   ],
   "source": [
    "#pie chart\n",
    "\n",
    "\n",
    "labels = rest_type_values.index\n",
    "sizes =rest_type_values.values \n",
    "\n",
    "plt.pie(sizes, labels=labels, autopct='%1.1f%%',\n",
    "        shadow=True)\n",
    "\n",
    "plt.axis('equal')"
   ]
  },
  {
   "cell_type": "markdown",
   "metadata": {},
   "source": [
    "# Observation\n",
    "\n",
    "1. 39% of the restaurants in pune are Quick bites.\n",
    "\n",
    "\n",
    "2. 24.2% of the restaurants in pune are Casual dining.\n",
    "\n",
    "\n",
    "3. 8.7 % of the restaurants in pune are Bakeries."
   ]
  },
  {
   "cell_type": "markdown",
   "metadata": {},
   "source": [
    "# Feature-3(Cuisines)"
   ]
  },
  {
   "cell_type": "code",
   "execution_count": 21,
   "metadata": {},
   "outputs": [
    {
     "data": {
      "text/plain": [
       "0       North Indian,Continental,Asian,Finger Food,\n",
       "1                             North Indian,Mughlai,\n",
       "2                 Mediterranean,Asian,North Indian,\n",
       "3                      Asian,European,North Indian,\n",
       "4                          Finger Food,Continental,\n",
       "                           ...                     \n",
       "5428             South Indian,Chinese,North Indian,\n",
       "5429                               Mughlai,Iranian,\n",
       "5430                Chinese,Fast Food,North Indian,\n",
       "5431       Beverages,Chinese,Street Food,Fast Food,\n",
       "5432                                  Thai,Chinese,\n",
       "Name: cuisine, Length: 5183, dtype: object"
      ]
     },
     "execution_count": 21,
     "metadata": {},
     "output_type": "execute_result"
    }
   ],
   "source": [
    "# we can see that a restaurant can have multiple cuisine\n",
    "df['cuisine']"
   ]
  },
  {
   "cell_type": "markdown",
   "metadata": {},
   "source": [
    "# Lets see what all cuisine Pune serves to us..."
   ]
  },
  {
   "cell_type": "code",
   "execution_count": 22,
   "metadata": {
    "scrolled": true
   },
   "outputs": [
    {
     "name": "stdout",
     "output_type": "stream",
     "text": [
      "['North Indian', 'Continental', 'Asian', 'Finger Food', '', 'Mughlai', 'Mediterranean', 'European', 'Salad', 'Malaysian', 'Vietnamese', 'Thai', 'Chinese', 'Japanese', 'Biryani', 'Kebab', 'Italian', 'Bar Food', 'Seafood', 'Fast Food', 'Healthy Food', 'Mexican', 'Desserts', 'American', 'Greek', 'Maharashtrian', 'Beverages', 'South American', 'Steak', 'Brazilian', 'Malwani', 'South Indian', 'Chettinad', 'Kerala', 'Mangalorean', 'Pizza', 'Iranian', 'Goan', 'Charcoal Chicken', 'Cafe', 'Modern Indian', 'Korean', 'Sushi', 'Cantonese', 'Momos', 'Bakery', 'Tea', 'BBQ', 'Mongolian', 'Tex-Mex', 'Lebanese', 'Street Food', 'Cuisine Varies', 'Sandwich', 'Middle Eastern', 'African', 'Ethiopian', 'Burger', 'Hyderabadi', 'Parsi', 'German', 'Konkan', 'Rolls', 'Singaporean', 'Indonesian', 'Rajasthani', 'Lucknowi', 'Burmese', 'Bengali', 'Ice Cream', 'Kashmiri', 'Arabian', 'Gujarati', 'French', 'Tibetan', 'Coffee', 'Mithai', 'Bihari', 'Wraps', 'Odia', 'Juices', 'Raw Meats', 'Turkish', 'Frozen Yogurt', 'Awadhi', 'Afghan', 'Paan', 'Assamese', 'Andhra', 'Panini', 'Mishti', 'Naga']\n",
      "92\n"
     ]
    }
   ],
   "source": [
    "#NUMBER OF CUISINE IN PUNE\n",
    "cuisine=[]\n",
    "for i in df['cuisine']:\n",
    "    for j in i.split(\",\"):\n",
    "        if j not in cuisine:\n",
    "            cuisine.append(j)\n",
    "print(cuisine)\n",
    "print(len(cuisine))\n",
    "\n",
    "#there are 92 total cuisine in all the restaurant in pune"
   ]
  },
  {
   "cell_type": "markdown",
   "metadata": {},
   "source": [
    "We can see there are lots of cuisines in pune, some of them are are not cuisines like Coffee, Mithai etc but in data we have it like that\n"
   ]
  },
  {
   "cell_type": "markdown",
   "metadata": {},
   "source": [
    "# Total number of restaurants serving biryani in Pune"
   ]
  },
  {
   "cell_type": "code",
   "execution_count": 23,
   "metadata": {},
   "outputs": [
    {
     "name": "stdout",
     "output_type": "stream",
     "text": [
      "566\n"
     ]
    }
   ],
   "source": [
    "count=0\n",
    "for i in df['cuisine']:\n",
    "    for j in i.split(\",\"):\n",
    "        if j ==\"Biryani\":\n",
    "            count=count+1\n",
    "print(count)\n",
    "\n",
    "#There are 566 restaurant in pune which serves biryani"
   ]
  },
  {
   "cell_type": "markdown",
   "metadata": {},
   "source": [
    "# Total number of restaurants serving North Indian Food in Pune"
   ]
  },
  {
   "cell_type": "code",
   "execution_count": 24,
   "metadata": {},
   "outputs": [
    {
     "name": "stdout",
     "output_type": "stream",
     "text": [
      "2057\n"
     ]
    }
   ],
   "source": [
    "count=0\n",
    "for i in df['cuisine']:\n",
    "    for j in i.split(\",\"):\n",
    "        if j ==\"North Indian\":\n",
    "            count=count+1\n",
    "print(count)\n",
    "\n",
    "#There are 2057 restaurants out of 5183 restaurants(almost 40%) which serves North Indian Food"
   ]
  },
  {
   "cell_type": "code",
   "execution_count": 25,
   "metadata": {},
   "outputs": [
    {
     "name": "stdout",
     "output_type": "stream",
     "text": [
      " 5183\n",
      "North Indian 2057\n",
      "Chinese 1431\n",
      "Fast Food 1419\n",
      "Beverages 1058\n",
      "Desserts 996\n",
      "Bakery 581\n",
      "Biryani 566\n",
      "Street Food 494\n",
      "Mughlai 493\n",
      "Continental 478\n",
      "Italian 461\n",
      "Maharashtrian 395\n",
      "South Indian 358\n",
      "Ice Cream 328\n",
      "Pizza 326\n",
      "Sandwich 279\n",
      "Cafe 269\n",
      "Asian 251\n",
      "Seafood 233\n",
      "Burger 217\n",
      "Salad 164\n",
      "Finger Food 154\n",
      "Rolls 145\n",
      "Kebab 130\n",
      "Thai 120\n",
      "Malwani 115\n",
      "Healthy Food 109\n",
      "Mexican 98\n",
      "European 83\n",
      "Mithai 83\n",
      "Wraps 77\n",
      "Tea 72\n",
      "American 71\n",
      "Momos 67\n",
      "Bar Food 55\n",
      "Lebanese 55\n",
      "Modern Indian 46\n",
      "Coffee 44\n",
      "Hyderabadi 37\n",
      "Japanese 33\n",
      "Mediterranean 27\n",
      "Bengali 27\n",
      "Mangalorean 22\n",
      "Sushi 21\n",
      "Goan 19\n",
      "BBQ 17\n",
      "Juices 17\n",
      "Kerala 15\n",
      "Korean 15\n",
      "Rajasthani 15\n",
      "Arabian 14\n",
      "Malaysian 11\n",
      "Gujarati 11\n",
      "Konkan 10\n",
      "Tibetan 10\n",
      "Lucknowi 9\n",
      "Iranian 8\n",
      "German 8\n",
      "Steak 7\n",
      "Parsi 7\n",
      "Vietnamese 6\n",
      "Chettinad 6\n",
      "Andhra 6\n",
      "Panini 5\n",
      "Brazilian 4\n",
      "Charcoal Chicken 4\n",
      "Cuisine Varies 4\n",
      "Indonesian 4\n",
      "French 4\n",
      "Afghan 4\n",
      "Middle Eastern 3\n",
      "Singaporean 3\n",
      "Kashmiri 3\n",
      "Odia 3\n",
      "Awadhi 3\n",
      "South American 2\n",
      "Burmese 2\n",
      "Bihari 2\n",
      "Assamese 2\n",
      "Greek 1\n",
      "Cantonese 1\n",
      "Mongolian 1\n",
      "Tex-Mex 1\n",
      "African 1\n",
      "Ethiopian 1\n",
      "Raw Meats 1\n",
      "Turkish 1\n",
      "Frozen Yogurt 1\n",
      "Paan 1\n",
      "Mishti 1\n",
      "Naga 1\n"
     ]
    }
   ],
   "source": [
    "list_res=[]\n",
    "d={}\n",
    "for i in df[\"cuisine\"]:\n",
    "    for j in i.split(\",\"):\n",
    "        list_res.append(j)\n",
    "\n",
    "        \n",
    "for i in list_res:\n",
    "    if i in d:\n",
    "        d[i]+=1\n",
    "    else:\n",
    "        d[i]=1\n",
    "        \n",
    "for w in sorted(d, key=d.get, reverse=True):\n",
    "    print(w, d[w])\n",
    "\n",
    "        \n",
    "        "
   ]
  },
  {
   "cell_type": "markdown",
   "metadata": {},
   "source": [
    "# Feature-4(loc-location where the restaurant is situated)"
   ]
  },
  {
   "cell_type": "code",
   "execution_count": 26,
   "metadata": {},
   "outputs": [
    {
     "name": "stdout",
     "output_type": "stream",
     "text": [
      "Kothrud            264\n",
      "Wakad              225\n",
      "Viman Nagar        224\n",
      "Baner              219\n",
      "Hinjawadi          213\n",
      "Hadapsar           183\n",
      "Kharadi            180\n",
      "Sinhgad Road       142\n",
      "Pimple Saudagar    134\n",
      "Koregaon Park      123\n",
      "Name: loc, dtype: int64\n"
     ]
    }
   ],
   "source": [
    "total_locations=df['loc'].value_counts()\n",
    "top_total_locations=df['loc'].value_counts()[:10]\n",
    "print(top_total_locations)\n",
    "\n",
    "places=top_total_locations.index\n",
    "\n",
    "#these are the location with the maximum number of restaurants in pune"
   ]
  },
  {
   "cell_type": "code",
   "execution_count": 27,
   "metadata": {},
   "outputs": [
    {
     "data": {
      "text/plain": [
       "<AxesSubplot:xlabel='loc'>"
      ]
     },
     "execution_count": 27,
     "metadata": {},
     "output_type": "execute_result"
    },
    {
     "data": {
      "image/png": "[encoded data removed]",
      "text/plain": [
       "<Figure size 432x288 with 1 Axes>"
      ]
     },
     "metadata": {
      "needs_background": "light"
     },
     "output_type": "display_data"
    }
   ],
   "source": [
    "sns.barplot(top_total_locations,places)"
   ]
  },
  {
   "cell_type": "markdown",
   "metadata": {},
   "source": [
    "# Observation\n",
    "\n",
    "Kothrud has the maximum number of restaurants followed by wakad and viman nagar"
   ]
  },
  {
   "cell_type": "code",
   "execution_count": 28,
   "metadata": {},
   "outputs": [
    {
     "data": {
      "text/plain": [
       "(-1.106081493738245,\n",
       " 1.1002895949399165,\n",
       " -1.1035496093886763,\n",
       " 1.1045536352361645)"
      ]
     },
     "execution_count": 28,
     "metadata": {},
     "output_type": "execute_result"
    },
    {
     "data": {
      "image/png": "[encoded data removed]",
      "text/plain": [
       "<Figure size 432x288 with 1 Axes>"
      ]
     },
     "metadata": {},
     "output_type": "display_data"
    }
   ],
   "source": [
    "labels = top_total_locations.index\n",
    "sizes =top_total_locations.values \n",
    "\n",
    "plt.pie(sizes, labels=labels, autopct='%1.1f%%',\n",
    "        shadow=True)\n",
    "plt.axis('equal')"
   ]
  },
  {
   "cell_type": "markdown",
   "metadata": {},
   "source": [
    "# Observation\n",
    "\n",
    "1. Kothrud covers 13.8% of top 10 locations in pune.\n",
    "\n",
    "\n",
    "2. Viman Nagar and Baner covers almost 11.5% of the top 10 locations in pune"
   ]
  },
  {
   "cell_type": "markdown",
   "metadata": {},
   "source": [
    "# FEATURE-5(delivery_rating)"
   ]
  },
  {
   "cell_type": "code",
   "execution_count": 29,
   "metadata": {},
   "outputs": [
    {
     "data": {
      "text/plain": [
       "3.9    446\n",
       "3.8    280\n",
       "4.0    242\n",
       "4.1    227\n",
       "3.7    212\n",
       "4.2    172\n",
       "3.6    164\n",
       "3.5    123\n",
       "4.3     96\n",
       "3.4     90\n",
       "3.3     88\n",
       "4.4     58\n",
       "3.2     58\n",
       "3.1     37\n",
       "4.5     36\n",
       "3.0     24\n",
       "4.6     18\n",
       "2.9     13\n",
       "2.7      7\n",
       "2.6      6\n",
       "2.8      6\n",
       "4.7      3\n",
       "4.8      1\n",
       "2.0      1\n",
       "2.2      1\n",
       "Name: delivery_rating, dtype: int64"
      ]
     },
     "execution_count": 29,
     "metadata": {},
     "output_type": "execute_result"
    }
   ],
   "source": [
    "deliver=df['delivery_rating'].value_counts()\n",
    "deliver"
   ]
  },
  {
   "cell_type": "code",
   "execution_count": 30,
   "metadata": {},
   "outputs": [
    {
     "data": {
      "text/plain": [
       "<AxesSubplot:ylabel='delivery_rating'>"
      ]
     },
     "execution_count": 30,
     "metadata": {},
     "output_type": "execute_result"
    },
    {
     "data": {
      "image/png": "[encoded data removed]",
      "text/plain": [
       "<Figure size 288x288 with 1 Axes>"
      ]
     },
     "metadata": {
      "needs_background": "light"
     },
     "output_type": "display_data"
    }
   ],
   "source": [
    "plt.figure(figsize=(4,4))\n",
    "\n",
    "\n",
    "sns.barplot(deliver.index,deliver)"
   ]
  },
  {
   "cell_type": "markdown",
   "metadata": {},
   "source": [
    "# Observation\n",
    "\n",
    "1.Most of the restaurant gets 3.9 delievery rating\n",
    "\n",
    "2.There are very few restaurants who get less than 2.5 rating.\n",
    "\n"
   ]
  },
  {
   "cell_type": "code",
   "execution_count": 31,
   "metadata": {},
   "outputs": [
    {
     "data": {
      "text/plain": [
       "Text(0, 0.5, 'count of restaurants')"
      ]
     },
     "execution_count": 31,
     "metadata": {},
     "output_type": "execute_result"
    },
    {
     "data": {
      "image/png": "[encoded data removed]",
      "text/plain": [
       "<Figure size 432x288 with 1 Axes>"
      ]
     },
     "metadata": {
      "needs_background": "light"
     },
     "output_type": "display_data"
    }
   ],
   "source": [
    "#lets plot the histogram\n",
    "plt.hist(df['delivery_rating'])\n",
    "plt.xlabel(\"delivery_rating\")\n",
    "plt.ylabel(\"count of restaurants\")\n",
    "\n"
   ]
  },
  {
   "cell_type": "code",
   "execution_count": 32,
   "metadata": {},
   "outputs": [
    {
     "data": {
      "text/plain": [
       "<AxesSubplot:xlabel='delivery_rating'>"
      ]
     },
     "execution_count": 32,
     "metadata": {},
     "output_type": "execute_result"
    },
    {
     "data": {
      "image/png": "[encoded data removed]",
      "text/plain": [
       "<Figure size 432x288 with 1 Axes>"
      ]
     },
     "metadata": {
      "needs_background": "light"
     },
     "output_type": "display_data"
    }
   ],
   "source": [
    "#box plot\n",
    "\n",
    "sns.boxplot(df['delivery_rating'])"
   ]
  },
  {
   "cell_type": "markdown",
   "metadata": {},
   "source": [
    "# Observation\n",
    "\n",
    "1. 25% of the delivery rating is less than 3.5\n",
    "\n",
    "\n",
    "2. 50% of the delivery rating is less than 2.9\n",
    "\n",
    "\n",
    "3. 75% of the delivery rating is less than 4.2\n",
    "\n",
    "\n",
    "4. We can clearly observe that 50% of the delivery rating lies between 3.6 to 4.1 and thats a good news for Zomato."
   ]
  },
  {
   "cell_type": "code",
   "execution_count": 33,
   "metadata": {},
   "outputs": [
    {
     "data": {
      "text/plain": [
       "Index(['rest_name', 'rest_type', 'loc', 'dine_rating', 'dine_reviews',\n",
       "       'delivery_rating', 'delivery_reviews', 'cuisine', 'Cost (RS)', 'cost',\n",
       "       'liked'],\n",
       "      dtype='object')"
      ]
     },
     "execution_count": 33,
     "metadata": {},
     "output_type": "execute_result"
    }
   ],
   "source": [
    "df.columns"
   ]
  },
  {
   "cell_type": "markdown",
   "metadata": {},
   "source": [
    "# Feature-5 Cost (RS)\n",
    "\n",
    "We are assuming that this is the average cost of 2 people.\n"
   ]
  },
  {
   "cell_type": "code",
   "execution_count": 34,
   "metadata": {},
   "outputs": [
    {
     "data": {
      "text/plain": [
       "300     759\n",
       "400     624\n",
       "500     525\n",
       "200     352\n",
       "600     321\n",
       "350     313\n",
       "250     217\n",
       "150     198\n",
       "700     185\n",
       "1200    176\n",
       "1000    172\n",
       "550     170\n",
       "450     150\n",
       "1500    140\n",
       "800     133\n",
       "1300    102\n",
       "100     102\n",
       "1100     71\n",
       "1600     64\n",
       "2000     63\n",
       "1400     63\n",
       "900      43\n",
       "1800     42\n",
       "1700     37\n",
       "650      37\n",
       "750      26\n",
       "2500     17\n",
       "3000     12\n",
       "2200      9\n",
       "2100      9\n",
       "2300      6\n",
       "950       6\n",
       "850       6\n",
       "3200      4\n",
       "1900      4\n",
       "2900      3\n",
       "2600      3\n",
       "2400      2\n",
       "2700      2\n",
       "1050      2\n",
       "1150      2\n",
       "1950      2\n",
       "50        2\n",
       "499       1\n",
       "4300      1\n",
       "1250      1\n",
       "3500      1\n",
       "1650      1\n",
       "3100      1\n",
       "1350      1\n",
       "Name: Cost (RS), dtype: int64"
      ]
     },
     "execution_count": 34,
     "metadata": {},
     "output_type": "execute_result"
    }
   ],
   "source": [
    "cost=df['Cost (RS)'].value_counts()\n",
    "cost"
   ]
  },
  {
   "cell_type": "code",
   "execution_count": 35,
   "metadata": {},
   "outputs": [
    {
     "data": {
      "text/plain": [
       "<AxesSubplot:ylabel='Cost (RS)'>"
      ]
     },
     "execution_count": 35,
     "metadata": {},
     "output_type": "execute_result"
    },
    {
     "data": {
      "image/png": "[encoded data removed]",
      "text/plain": [
       "<Figure size 1080x576 with 1 Axes>"
      ]
     },
     "metadata": {
      "needs_background": "light"
     },
     "output_type": "display_data"
    }
   ],
   "source": [
    "plt.figure(figsize=(15,8))\n",
    "\n",
    "\n",
    "sns.barplot(cost.index,cost)"
   ]
  },
  {
   "cell_type": "markdown",
   "metadata": {},
   "source": [
    "# Observation\n",
    "\n",
    "1. There are 759 restaurants which that cost Rs300 for 2 people.\n",
    "\n",
    "\n",
    "2. There are 624 restaurants which that cost Rs400 for 2 people."
   ]
  },
  {
   "cell_type": "code",
   "execution_count": 36,
   "metadata": {},
   "outputs": [
    {
     "data": {
      "text/plain": [
       "(array([2.717e+03, 1.404e+03, 5.750e+02, 3.060e+02, 1.200e+02, 3.400e+01,\n",
       "        2.000e+01, 5.000e+00, 1.000e+00, 1.000e+00]),\n",
       " array([  50.,  475.,  900., 1325., 1750., 2175., 2600., 3025., 3450.,\n",
       "        3875., 4300.]),\n",
       " <BarContainer object of 10 artists>)"
      ]
     },
     "execution_count": 36,
     "metadata": {},
     "output_type": "execute_result"
    },
    {
     "data": {
      "image/png": "[encoded data removed]",
      "text/plain": [
       "<Figure size 432x288 with 1 Axes>"
      ]
     },
     "metadata": {
      "needs_background": "light"
     },
     "output_type": "display_data"
    }
   ],
   "source": [
    "#lets plot the histogram\n",
    "plt.hist(df['Cost (RS)'])\n",
    "\n",
    "\n"
   ]
  },
  {
   "cell_type": "code",
   "execution_count": 37,
   "metadata": {},
   "outputs": [
    {
     "data": {
      "text/plain": [
       "<AxesSubplot:xlabel='Cost (RS)'>"
      ]
     },
     "execution_count": 37,
     "metadata": {},
     "output_type": "execute_result"
    },
    {
     "data": {
      "image/png": "[encoded data removed]",
      "text/plain": [
       "<Figure size 432x288 with 1 Axes>"
      ]
     },
     "metadata": {
      "needs_background": "light"
     },
     "output_type": "display_data"
    }
   ],
   "source": [
    "sns.boxplot(df['Cost (RS)'])"
   ]
  },
  {
   "cell_type": "markdown",
   "metadata": {},
   "source": [
    "# Observation\n",
    "\n",
    "1. 25% of the restaurants cost less than 300 rupees for 2 people.\n",
    "\n",
    "\n",
    "2. 50% of the restaurants cost less than 400 rupees for 2 people.\n",
    "\n",
    "\n",
    "3. 75% of the restaurants cost less than 850 rupees for 2 people.\n",
    "\n",
    "\n",
    "4. Obviously there are some outliers restaurants which cost more than 2000 , some even cost 5000.\n"
   ]
  },
  {
   "cell_type": "code",
   "execution_count": 38,
   "metadata": {},
   "outputs": [
    {
     "data": {
      "text/plain": [
       "<AxesSubplot:xlabel='Cost (RS)', ylabel='delivery_rating'>"
      ]
     },
     "execution_count": 38,
     "metadata": {},
     "output_type": "execute_result"
    },
    {
     "data": {
      "image/png": "[encoded data removed]",
      "text/plain": [
       "<Figure size 432x288 with 1 Axes>"
      ]
     },
     "metadata": {
      "needs_background": "light"
     },
     "output_type": "display_data"
    }
   ],
   "source": [
    "#scatter plot\n",
    "sns.scatterplot(df[\"Cost (RS)\"],df[\"delivery_rating\"])"
   ]
  },
  {
   "cell_type": "markdown",
   "metadata": {},
   "source": [
    "# Observation\n",
    "\n",
    "1. There are obviously more ratings for the food which cost less than Rs500.\n",
    "\n",
    "\n",
    "2. There are also restaurants which cost almost 2000 but has delivery_rating less than 3."
   ]
  },
  {
   "cell_type": "code",
   "execution_count": 39,
   "metadata": {},
   "outputs": [
    {
     "data": {
      "text/plain": [
       "<AxesSubplot:xlabel='Cost (RS)', ylabel='dine_rating'>"
      ]
     },
     "execution_count": 39,
     "metadata": {},
     "output_type": "execute_result"
    },
    {
     "data": {
      "image/png": "[encoded data removed]",
      "text/plain": [
       "<Figure size 432x288 with 1 Axes>"
      ]
     },
     "metadata": {
      "needs_background": "light"
     },
     "output_type": "display_data"
    }
   ],
   "source": [
    "sns.scatterplot(df[\"Cost (RS)\"],df[\"dine_rating\"])"
   ]
  },
  {
   "cell_type": "markdown",
   "metadata": {},
   "source": [
    "# Observation\n",
    "\n",
    "1. Obviosly there are more ratings for the food which cost less than 1000.\n",
    "\n",
    "\n",
    "2. There are restaurants which does have rating irrespective of cost.\n",
    "\n",
    "\n",
    "3. As cost increases, rating moves to 3 to 5, it means people are rating high to costly restaurnts."
   ]
  },
  {
   "cell_type": "markdown",
   "metadata": {},
   "source": [
    "# Let's do some more Questions\n",
    "\n",
    "Q1. Create a dataframe for all the restaurants\n",
    "    which belong to KOTHRUD?\n",
    "    \n",
    "Q2. Which are the highly rated restaurants in BANER?\n",
    "\n",
    "Q3. Which are restaurtants which got 0 rating \n",
    "    the city PUNE?\n",
    "    \n",
    "Q4. Return the location in pune with the best restaurants?\n",
    "\n",
    "Q5. Plot the bar chart of top 10 locations rating wise in \n",
    "    pune?\n",
    "\n"
   ]
  },
  {
   "cell_type": "markdown",
   "metadata": {},
   "source": [
    "# Dataframe for all the restaurants which belong to KOTHRUD?"
   ]
  },
  {
   "cell_type": "code",
   "execution_count": 40,
   "metadata": {
    "scrolled": true
   },
   "outputs": [
    {
     "data": {
      "text/html": [
       "<div>\n",
       "<style scoped>\n",
       "    .dataframe tbody tr th:only-of-type {\n",
       "        vertical-align: middle;\n",
       "    }\n",
       "\n",
       "    .dataframe tbody tr th {\n",
       "        vertical-align: top;\n",
       "    }\n",
       "\n",
       "    .dataframe thead th {\n",
       "        text-align: right;\n",
       "    }\n",
       "</style>\n",
       "<table border=\"1\" class=\"dataframe\">\n",
       "  <thead>\n",
       "    <tr style=\"text-align: right;\">\n",
       "      <th></th>\n",
       "      <th>rest_name</th>\n",
       "      <th>rest_type</th>\n",
       "      <th>loc</th>\n",
       "      <th>dine_rating</th>\n",
       "      <th>dine_reviews</th>\n",
       "      <th>delivery_rating</th>\n",
       "      <th>delivery_reviews</th>\n",
       "      <th>cuisine</th>\n",
       "      <th>Cost (RS)</th>\n",
       "      <th>cost</th>\n",
       "      <th>liked</th>\n",
       "    </tr>\n",
       "  </thead>\n",
       "  <tbody>\n",
       "    <tr>\n",
       "      <th>161</th>\n",
       "      <td>The 3 Musketeers Sky Gallary\\r\\r\\n            ...</td>\n",
       "      <td>Casual Dining,Bar</td>\n",
       "      <td>Kothrud</td>\n",
       "      <td>0.0</td>\n",
       "      <td>NaN</td>\n",
       "      <td>NaN</td>\n",
       "      <td>NaN</td>\n",
       "      <td>Beverages,Chinese,Continental,</td>\n",
       "      <td>1700</td>\n",
       "      <td>Rs. 1700</td>\n",
       "      <td>NaN</td>\n",
       "    </tr>\n",
       "    <tr>\n",
       "      <th>183</th>\n",
       "      <td>Bacharika- Rooftop Bar And Kitchen\\r\\r\\n      ...</td>\n",
       "      <td>Casual Dining,Bar</td>\n",
       "      <td>Kothrud</td>\n",
       "      <td>4.1</td>\n",
       "      <td>(238 Reviews)</td>\n",
       "      <td>NaN</td>\n",
       "      <td>NaN</td>\n",
       "      <td>European,Middle Eastern,Continental,North Indi...</td>\n",
       "      <td>1600</td>\n",
       "      <td>Rs. 1600</td>\n",
       "      <td>NaN</td>\n",
       "    </tr>\n",
       "    <tr>\n",
       "      <th>191</th>\n",
       "      <td>ALC Bar &amp; Bites\\r\\r\\n                         ...</td>\n",
       "      <td>Bar,Casual Dining</td>\n",
       "      <td>Kothrud</td>\n",
       "      <td>3.7</td>\n",
       "      <td>(38 Reviews)</td>\n",
       "      <td>NaN</td>\n",
       "      <td>NaN</td>\n",
       "      <td>North Indian,Chinese,</td>\n",
       "      <td>1600</td>\n",
       "      <td>Rs. 1600</td>\n",
       "      <td>NaN</td>\n",
       "    </tr>\n",
       "    <tr>\n",
       "      <th>214</th>\n",
       "      <td>Barometer\\r\\r\\n                               ...</td>\n",
       "      <td>Casual Dining</td>\n",
       "      <td>Kothrud</td>\n",
       "      <td>4.6</td>\n",
       "      <td>-1,591</td>\n",
       "      <td>4.3</td>\n",
       "      <td>-1,797</td>\n",
       "      <td>Finger Food,North Indian,Asian,Continental,</td>\n",
       "      <td>1500</td>\n",
       "      <td>Rs. 1500</td>\n",
       "      <td>Cocktails, Pizza, Pasta, Filtered Coffee, Nach...</td>\n",
       "    </tr>\n",
       "    <tr>\n",
       "      <th>236</th>\n",
       "      <td>German Bakery Wunderbar\\r\\r\\n                 ...</td>\n",
       "      <td>Casual Dining</td>\n",
       "      <td>Kothrud</td>\n",
       "      <td>3.0</td>\n",
       "      <td>(91 Reviews)</td>\n",
       "      <td>NaN</td>\n",
       "      <td>NaN</td>\n",
       "      <td>Beverages,Desserts,Cafe,Italian,Continental,Ge...</td>\n",
       "      <td>1000</td>\n",
       "      <td>Rs. 1000</td>\n",
       "      <td>NaN</td>\n",
       "    </tr>\n",
       "    <tr>\n",
       "      <th>...</th>\n",
       "      <td>...</td>\n",
       "      <td>...</td>\n",
       "      <td>...</td>\n",
       "      <td>...</td>\n",
       "      <td>...</td>\n",
       "      <td>...</td>\n",
       "      <td>...</td>\n",
       "      <td>...</td>\n",
       "      <td>...</td>\n",
       "      <td>...</td>\n",
       "      <td>...</td>\n",
       "    </tr>\n",
       "    <tr>\n",
       "      <th>5338</th>\n",
       "      <td>Sudit All Day Kitchen\\r\\n                     ...</td>\n",
       "      <td>Casual Dining</td>\n",
       "      <td>Kothrud</td>\n",
       "      <td>3.7</td>\n",
       "      <td>-59</td>\n",
       "      <td>3.9</td>\n",
       "      <td>-61</td>\n",
       "      <td>North Indian,Maharashtrian,Chinese,</td>\n",
       "      <td>1000</td>\n",
       "      <td>Rs. 1000</td>\n",
       "      <td>NaN</td>\n",
       "    </tr>\n",
       "    <tr>\n",
       "      <th>5339</th>\n",
       "      <td>Taco Alfresco\\r\\n                             ...</td>\n",
       "      <td>Café</td>\n",
       "      <td>Kothrud</td>\n",
       "      <td>4.0</td>\n",
       "      <td>-113</td>\n",
       "      <td>4.1</td>\n",
       "      <td>-570</td>\n",
       "      <td>Mexican,Cafe,</td>\n",
       "      <td>650</td>\n",
       "      <td>Rs. 650</td>\n",
       "      <td>Nachos, Burrito Bowl, Coffee, Hot Chocolate, K...</td>\n",
       "    </tr>\n",
       "    <tr>\n",
       "      <th>5343</th>\n",
       "      <td>Parth Veg &amp; Non Veg\\r\\n                       ...</td>\n",
       "      <td>Casual Dining</td>\n",
       "      <td>Kothrud</td>\n",
       "      <td>3.6</td>\n",
       "      <td>-32</td>\n",
       "      <td>4.2</td>\n",
       "      <td>-257</td>\n",
       "      <td>Maharashtrian,Fast Food,Seafood,North Indian,</td>\n",
       "      <td>500</td>\n",
       "      <td>Rs. 500</td>\n",
       "      <td>NaN</td>\n",
       "    </tr>\n",
       "    <tr>\n",
       "      <th>5374</th>\n",
       "      <td>Yahoo!!! Momos\\r\\n                            ...</td>\n",
       "      <td>Quick Bites</td>\n",
       "      <td>Kothrud</td>\n",
       "      <td>2.9</td>\n",
       "      <td>-356</td>\n",
       "      <td>3.8</td>\n",
       "      <td>-4,726</td>\n",
       "      <td>Ice Cream,Momos,</td>\n",
       "      <td>300</td>\n",
       "      <td>Rs. 300</td>\n",
       "      <td>Chicken 65, Iced Tea, Veg Momos, Tandoori Momo...</td>\n",
       "    </tr>\n",
       "    <tr>\n",
       "      <th>5400</th>\n",
       "      <td>Taj 24/7\\r\\n</td>\n",
       "      <td>NaN</td>\n",
       "      <td>Kothrud</td>\n",
       "      <td>0.0</td>\n",
       "      <td>NaN</td>\n",
       "      <td>NaN</td>\n",
       "      <td>NaN</td>\n",
       "      <td>Beverages,South Indian,Street Food,</td>\n",
       "      <td>200</td>\n",
       "      <td>Rs. 200</td>\n",
       "      <td>NaN</td>\n",
       "    </tr>\n",
       "  </tbody>\n",
       "</table>\n",
       "<p>264 rows × 11 columns</p>\n",
       "</div>"
      ],
      "text/plain": [
       "                                              rest_name          rest_type  \\\n",
       "161   The 3 Musketeers Sky Gallary\\r\\r\\n            ...  Casual Dining,Bar   \n",
       "183   Bacharika- Rooftop Bar And Kitchen\\r\\r\\n      ...  Casual Dining,Bar   \n",
       "191   ALC Bar & Bites\\r\\r\\n                         ...  Bar,Casual Dining   \n",
       "214   Barometer\\r\\r\\n                               ...      Casual Dining   \n",
       "236   German Bakery Wunderbar\\r\\r\\n                 ...      Casual Dining   \n",
       "...                                                 ...                ...   \n",
       "5338  Sudit All Day Kitchen\\r\\n                     ...      Casual Dining   \n",
       "5339  Taco Alfresco\\r\\n                             ...               Café   \n",
       "5343  Parth Veg & Non Veg\\r\\n                       ...      Casual Dining   \n",
       "5374  Yahoo!!! Momos\\r\\n                            ...        Quick Bites   \n",
       "5400   Taj 24/7\\r\\n                                                    NaN   \n",
       "\n",
       "          loc  dine_rating   dine_reviews  delivery_rating delivery_reviews  \\\n",
       "161   Kothrud          0.0            NaN              NaN              NaN   \n",
       "183   Kothrud          4.1  (238 Reviews)              NaN              NaN   \n",
       "191   Kothrud          3.7   (38 Reviews)              NaN              NaN   \n",
       "214   Kothrud          4.6         -1,591              4.3           -1,797   \n",
       "236   Kothrud          3.0   (91 Reviews)              NaN              NaN   \n",
       "...       ...          ...            ...              ...              ...   \n",
       "5338  Kothrud          3.7            -59              3.9              -61   \n",
       "5339  Kothrud          4.0           -113              4.1             -570   \n",
       "5343  Kothrud          3.6            -32              4.2             -257   \n",
       "5374  Kothrud          2.9           -356              3.8           -4,726   \n",
       "5400  Kothrud          0.0            NaN              NaN              NaN   \n",
       "\n",
       "                                                cuisine  Cost (RS)      cost  \\\n",
       "161                      Beverages,Chinese,Continental,       1700  Rs. 1700   \n",
       "183   European,Middle Eastern,Continental,North Indi...       1600  Rs. 1600   \n",
       "191                               North Indian,Chinese,       1600  Rs. 1600   \n",
       "214         Finger Food,North Indian,Asian,Continental,       1500  Rs. 1500   \n",
       "236   Beverages,Desserts,Cafe,Italian,Continental,Ge...       1000  Rs. 1000   \n",
       "...                                                 ...        ...       ...   \n",
       "5338                North Indian,Maharashtrian,Chinese,       1000  Rs. 1000   \n",
       "5339                                      Mexican,Cafe,        650   Rs. 650   \n",
       "5343      Maharashtrian,Fast Food,Seafood,North Indian,        500   Rs. 500   \n",
       "5374                                   Ice Cream,Momos,        300   Rs. 300   \n",
       "5400                Beverages,South Indian,Street Food,        200   Rs. 200   \n",
       "\n",
       "                                                  liked  \n",
       "161                                                 NaN  \n",
       "183                                                 NaN  \n",
       "191                                                 NaN  \n",
       "214   Cocktails, Pizza, Pasta, Filtered Coffee, Nach...  \n",
       "236                                                 NaN  \n",
       "...                                                 ...  \n",
       "5338                                                NaN  \n",
       "5339  Nachos, Burrito Bowl, Coffee, Hot Chocolate, K...  \n",
       "5343                                                NaN  \n",
       "5374  Chicken 65, Iced Tea, Veg Momos, Tandoori Momo...  \n",
       "5400                                                NaN  \n",
       "\n",
       "[264 rows x 11 columns]"
      ]
     },
     "execution_count": 40,
     "metadata": {},
     "output_type": "execute_result"
    }
   ],
   "source": [
    "#q-1  Create a dataframe for all the restaurants which belong to KOTHRUD?\n",
    "df_kothrud=df[(df['loc']=='Kothrud')]\n",
    "df_kothrud"
   ]
  },
  {
   "cell_type": "code",
   "execution_count": 41,
   "metadata": {},
   "outputs": [
    {
     "data": {
      "text/plain": [
       "(264, 11)"
      ]
     },
     "execution_count": 41,
     "metadata": {},
     "output_type": "execute_result"
    }
   ],
   "source": [
    "df_kothrud.shape"
   ]
  },
  {
   "cell_type": "markdown",
   "metadata": {},
   "source": [
    "# HOW MANY RESTAURANTS IN KOTHRUD HAVE MORE THAN 4.2 RATING?\n",
    "\n"
   ]
  },
  {
   "cell_type": "code",
   "execution_count": 42,
   "metadata": {},
   "outputs": [
    {
     "data": {
      "text/html": [
       "<div>\n",
       "<style scoped>\n",
       "    .dataframe tbody tr th:only-of-type {\n",
       "        vertical-align: middle;\n",
       "    }\n",
       "\n",
       "    .dataframe tbody tr th {\n",
       "        vertical-align: top;\n",
       "    }\n",
       "\n",
       "    .dataframe thead th {\n",
       "        text-align: right;\n",
       "    }\n",
       "</style>\n",
       "<table border=\"1\" class=\"dataframe\">\n",
       "  <thead>\n",
       "    <tr style=\"text-align: right;\">\n",
       "      <th></th>\n",
       "      <th>rest_name</th>\n",
       "      <th>rest_type</th>\n",
       "      <th>loc</th>\n",
       "      <th>dine_rating</th>\n",
       "      <th>dine_reviews</th>\n",
       "      <th>delivery_rating</th>\n",
       "      <th>delivery_reviews</th>\n",
       "      <th>cuisine</th>\n",
       "      <th>Cost (RS)</th>\n",
       "      <th>cost</th>\n",
       "      <th>liked</th>\n",
       "    </tr>\n",
       "  </thead>\n",
       "  <tbody>\n",
       "    <tr>\n",
       "      <th>214</th>\n",
       "      <td>Barometer\\r\\r\\n                               ...</td>\n",
       "      <td>Casual Dining</td>\n",
       "      <td>Kothrud</td>\n",
       "      <td>4.6</td>\n",
       "      <td>-1,591</td>\n",
       "      <td>4.3</td>\n",
       "      <td>-1,797</td>\n",
       "      <td>Finger Food,North Indian,Asian,Continental,</td>\n",
       "      <td>1500</td>\n",
       "      <td>Rs. 1500</td>\n",
       "      <td>Cocktails, Pizza, Pasta, Filtered Coffee, Nach...</td>\n",
       "    </tr>\n",
       "    <tr>\n",
       "      <th>462</th>\n",
       "      <td>La Gustosa\\r\\r\\n                              ...</td>\n",
       "      <td>Casual Dining</td>\n",
       "      <td>Kothrud</td>\n",
       "      <td>4.5</td>\n",
       "      <td>-1,855</td>\n",
       "      <td>4.3</td>\n",
       "      <td>-251</td>\n",
       "      <td>Italian,</td>\n",
       "      <td>1200</td>\n",
       "      <td>Rs. 1200</td>\n",
       "      <td>Pasta, Pizza, Garlic Bread, Chocolate Cheeseca...</td>\n",
       "    </tr>\n",
       "    <tr>\n",
       "      <th>472</th>\n",
       "      <td>Yin Yang\\r\\r\\n                                ...</td>\n",
       "      <td>Casual Dining</td>\n",
       "      <td>Kothrud</td>\n",
       "      <td>4.5</td>\n",
       "      <td>-413</td>\n",
       "      <td>4.3</td>\n",
       "      <td>-719</td>\n",
       "      <td>Indonesian,Burmese,Japanese,Malaysian,Thai,</td>\n",
       "      <td>1200</td>\n",
       "      <td>Rs. 1200</td>\n",
       "      <td>Sushi, Dumplings, Khau Suey, Thai Green Curry,...</td>\n",
       "    </tr>\n",
       "    <tr>\n",
       "      <th>776</th>\n",
       "      <td>Barometer\\r\\n</td>\n",
       "      <td>Casual Dining</td>\n",
       "      <td>Kothrud</td>\n",
       "      <td>4.6</td>\n",
       "      <td>-1,591</td>\n",
       "      <td>4.4</td>\n",
       "      <td>-1,790</td>\n",
       "      <td>Finger Food,North Indian,Asian,Continental,</td>\n",
       "      <td>1500</td>\n",
       "      <td>Rs. 1500</td>\n",
       "      <td>Cocktails, Pizza, Pasta, Filtered Coffee, Nach...</td>\n",
       "    </tr>\n",
       "    <tr>\n",
       "      <th>847</th>\n",
       "      <td>Theobroma\\r\\n</td>\n",
       "      <td>Bakery</td>\n",
       "      <td>Kothrud</td>\n",
       "      <td>3.8</td>\n",
       "      <td>-60</td>\n",
       "      <td>4.5</td>\n",
       "      <td>-286</td>\n",
       "      <td>Beverages,Fast Food,Desserts,Bakery,</td>\n",
       "      <td>900</td>\n",
       "      <td>Rs. 900</td>\n",
       "      <td>NaN</td>\n",
       "    </tr>\n",
       "    <tr>\n",
       "      <th>1238</th>\n",
       "      <td>The Momo Panda\\r\\n                            ...</td>\n",
       "      <td>Quick Bites</td>\n",
       "      <td>Kothrud</td>\n",
       "      <td>4.3</td>\n",
       "      <td>-507</td>\n",
       "      <td>4.5</td>\n",
       "      <td>-7,862</td>\n",
       "      <td>Momos,</td>\n",
       "      <td>300</td>\n",
       "      <td>Rs. 300</td>\n",
       "      <td>Paneer Momos, Chicken Tandoori Momos, Iced Pea...</td>\n",
       "    </tr>\n",
       "    <tr>\n",
       "      <th>1253</th>\n",
       "      <td>La Gustosa\\r\\n                                ...</td>\n",
       "      <td>Casual Dining</td>\n",
       "      <td>Kothrud</td>\n",
       "      <td>4.5</td>\n",
       "      <td>-1,854</td>\n",
       "      <td>4.3</td>\n",
       "      <td>-249</td>\n",
       "      <td>Italian,</td>\n",
       "      <td>1200</td>\n",
       "      <td>Rs. 1200</td>\n",
       "      <td>Pasta, Pizza, Garlic Bread, Chocolate Cheeseca...</td>\n",
       "    </tr>\n",
       "    <tr>\n",
       "      <th>1524</th>\n",
       "      <td>Le Petit Amour Patisserie &amp; Bistro\\r\\n        ...</td>\n",
       "      <td>Café,Dessert Parlor</td>\n",
       "      <td>Kothrud</td>\n",
       "      <td>4.6</td>\n",
       "      <td>-881</td>\n",
       "      <td>4.3</td>\n",
       "      <td>-473</td>\n",
       "      <td>Salad,Desserts,European,French,Cafe,</td>\n",
       "      <td>800</td>\n",
       "      <td>Rs. 800</td>\n",
       "      <td>Pasta, Sandwich, Salad, Fries, Cheesecake, Fis...</td>\n",
       "    </tr>\n",
       "    <tr>\n",
       "      <th>1690</th>\n",
       "      <td>Cake Cart\\r\\n</td>\n",
       "      <td>Dessert Parlor</td>\n",
       "      <td>Kothrud</td>\n",
       "      <td>4.0</td>\n",
       "      <td>-109</td>\n",
       "      <td>4.4</td>\n",
       "      <td>-229</td>\n",
       "      <td>Bakery,</td>\n",
       "      <td>250</td>\n",
       "      <td>Rs. 250</td>\n",
       "      <td>Chips, Dutch Truffle</td>\n",
       "    </tr>\n",
       "    <tr>\n",
       "      <th>1701</th>\n",
       "      <td>Natural Ice Cream\\r\\n                         ...</td>\n",
       "      <td>Dessert Parlor</td>\n",
       "      <td>Kothrud</td>\n",
       "      <td>4.3</td>\n",
       "      <td>-524</td>\n",
       "      <td>4.5</td>\n",
       "      <td>-5,228</td>\n",
       "      <td>Desserts,Ice Cream,</td>\n",
       "      <td>150</td>\n",
       "      <td>Rs. 150</td>\n",
       "      <td>Waffle Cone, Mango Ice Cream, Tender Coconut I...</td>\n",
       "    </tr>\n",
       "    <tr>\n",
       "      <th>1737</th>\n",
       "      <td>Midnight Kakery\\r\\n                           ...</td>\n",
       "      <td>Bakery</td>\n",
       "      <td>Kothrud</td>\n",
       "      <td>4.2</td>\n",
       "      <td>-178</td>\n",
       "      <td>4.8</td>\n",
       "      <td>-127</td>\n",
       "      <td>Fast Food,Desserts,Bakery,</td>\n",
       "      <td>300</td>\n",
       "      <td>Rs. 300</td>\n",
       "      <td>Macaroon, Tiramisu, Cupcake, Coffee, Red Velve...</td>\n",
       "    </tr>\n",
       "    <tr>\n",
       "      <th>1773</th>\n",
       "      <td>Apsara Ice Creams\\r\\n                         ...</td>\n",
       "      <td>Dessert Parlor</td>\n",
       "      <td>Kothrud</td>\n",
       "      <td>3.8</td>\n",
       "      <td>-12</td>\n",
       "      <td>4.4</td>\n",
       "      <td>-93</td>\n",
       "      <td>Desserts,Ice Cream,</td>\n",
       "      <td>400</td>\n",
       "      <td>Rs. 400</td>\n",
       "      <td>NaN</td>\n",
       "    </tr>\n",
       "    <tr>\n",
       "      <th>1874</th>\n",
       "      <td>Venky's Xprs\\r\\n                              ...</td>\n",
       "      <td>Quick Bites</td>\n",
       "      <td>Kothrud</td>\n",
       "      <td>3.1</td>\n",
       "      <td>-93</td>\n",
       "      <td>4.3</td>\n",
       "      <td>-243</td>\n",
       "      <td>Fast Food,</td>\n",
       "      <td>400</td>\n",
       "      <td>Rs. 400</td>\n",
       "      <td>Grilled Chicken Burger, Chicken Cheese Nuggets...</td>\n",
       "    </tr>\n",
       "    <tr>\n",
       "      <th>1993</th>\n",
       "      <td>Baker's Basket\\r\\n                            ...</td>\n",
       "      <td>Bakery,Quick Bites</td>\n",
       "      <td>Kothrud</td>\n",
       "      <td>3.9</td>\n",
       "      <td>-80</td>\n",
       "      <td>4.3</td>\n",
       "      <td>-203</td>\n",
       "      <td>Fast Food,Desserts,Bakery,</td>\n",
       "      <td>400</td>\n",
       "      <td>Rs. 400</td>\n",
       "      <td>Chocolate Cake, Pineapple Cake</td>\n",
       "    </tr>\n",
       "    <tr>\n",
       "      <th>2238</th>\n",
       "      <td>The Belgian Waffle Co.\\r\\n                    ...</td>\n",
       "      <td>Dessert Parlor</td>\n",
       "      <td>Kothrud</td>\n",
       "      <td>3.9</td>\n",
       "      <td>-112</td>\n",
       "      <td>4.3</td>\n",
       "      <td>-1,189</td>\n",
       "      <td>Fast Food,Beverages,Desserts,</td>\n",
       "      <td>300</td>\n",
       "      <td>Rs. 300</td>\n",
       "      <td>Oreo Shake, Triple Chocolate, Nutella Waffle, ...</td>\n",
       "    </tr>\n",
       "    <tr>\n",
       "      <th>2289</th>\n",
       "      <td>Yin Yang\\r\\n</td>\n",
       "      <td>Casual Dining</td>\n",
       "      <td>Kothrud</td>\n",
       "      <td>4.5</td>\n",
       "      <td>-413</td>\n",
       "      <td>4.3</td>\n",
       "      <td>-717</td>\n",
       "      <td>Indonesian,Burmese,Japanese,Malaysian,Thai,</td>\n",
       "      <td>1200</td>\n",
       "      <td>Rs. 1200</td>\n",
       "      <td>Sushi, Dumplings, Khau Suey, Thai Green Curry,...</td>\n",
       "    </tr>\n",
       "    <tr>\n",
       "      <th>2710</th>\n",
       "      <td>Frozen Bottle\\r\\n                             ...</td>\n",
       "      <td>Beverage Shop</td>\n",
       "      <td>Kothrud</td>\n",
       "      <td>3.6</td>\n",
       "      <td>-192</td>\n",
       "      <td>4.4</td>\n",
       "      <td>-3,010</td>\n",
       "      <td>Desserts,Beverages,</td>\n",
       "      <td>500</td>\n",
       "      <td>Rs. 500</td>\n",
       "      <td>Mango Ice Cream, Oreo Cheesecake</td>\n",
       "    </tr>\n",
       "    <tr>\n",
       "      <th>4643</th>\n",
       "      <td>Haveli Unlimited\\r\\n                          ...</td>\n",
       "      <td>Casual Dining</td>\n",
       "      <td>Kothrud</td>\n",
       "      <td>4.0</td>\n",
       "      <td>-139</td>\n",
       "      <td>4.4</td>\n",
       "      <td>-804</td>\n",
       "      <td>Biryani,Malwani,Maharashtrian,North Indian,</td>\n",
       "      <td>600</td>\n",
       "      <td>Rs. 600</td>\n",
       "      <td>Mutton Thali, Crab Thali</td>\n",
       "    </tr>\n",
       "  </tbody>\n",
       "</table>\n",
       "</div>"
      ],
      "text/plain": [
       "                                              rest_name            rest_type  \\\n",
       "214   Barometer\\r\\r\\n                               ...        Casual Dining   \n",
       "462   La Gustosa\\r\\r\\n                              ...        Casual Dining   \n",
       "472   Yin Yang\\r\\r\\n                                ...        Casual Dining   \n",
       "776   Barometer\\r\\n                                            Casual Dining   \n",
       "847   Theobroma\\r\\n                                                   Bakery   \n",
       "1238  The Momo Panda\\r\\n                            ...          Quick Bites   \n",
       "1253  La Gustosa\\r\\n                                ...        Casual Dining   \n",
       "1524  Le Petit Amour Patisserie & Bistro\\r\\n        ...  Café,Dessert Parlor   \n",
       "1690  Cake Cart\\r\\n                                           Dessert Parlor   \n",
       "1701  Natural Ice Cream\\r\\n                         ...       Dessert Parlor   \n",
       "1737  Midnight Kakery\\r\\n                           ...               Bakery   \n",
       "1773  Apsara Ice Creams\\r\\n                         ...       Dessert Parlor   \n",
       "1874  Venky's Xprs\\r\\n                              ...          Quick Bites   \n",
       "1993  Baker's Basket\\r\\n                            ...   Bakery,Quick Bites   \n",
       "2238  The Belgian Waffle Co.\\r\\n                    ...       Dessert Parlor   \n",
       "2289   Yin Yang\\r\\n                                            Casual Dining   \n",
       "2710  Frozen Bottle\\r\\n                             ...        Beverage Shop   \n",
       "4643  Haveli Unlimited\\r\\n                          ...        Casual Dining   \n",
       "\n",
       "          loc  dine_rating dine_reviews  delivery_rating delivery_reviews  \\\n",
       "214   Kothrud          4.6       -1,591              4.3           -1,797   \n",
       "462   Kothrud          4.5       -1,855              4.3             -251   \n",
       "472   Kothrud          4.5         -413              4.3             -719   \n",
       "776   Kothrud          4.6       -1,591              4.4           -1,790   \n",
       "847   Kothrud          3.8          -60              4.5             -286   \n",
       "1238  Kothrud          4.3         -507              4.5           -7,862   \n",
       "1253  Kothrud          4.5       -1,854              4.3             -249   \n",
       "1524  Kothrud          4.6         -881              4.3             -473   \n",
       "1690  Kothrud          4.0         -109              4.4             -229   \n",
       "1701  Kothrud          4.3         -524              4.5           -5,228   \n",
       "1737  Kothrud          4.2         -178              4.8             -127   \n",
       "1773  Kothrud          3.8          -12              4.4              -93   \n",
       "1874  Kothrud          3.1          -93              4.3             -243   \n",
       "1993  Kothrud          3.9          -80              4.3             -203   \n",
       "2238  Kothrud          3.9         -112              4.3           -1,189   \n",
       "2289  Kothrud          4.5         -413              4.3             -717   \n",
       "2710  Kothrud          3.6         -192              4.4           -3,010   \n",
       "4643  Kothrud          4.0         -139              4.4             -804   \n",
       "\n",
       "                                          cuisine  Cost (RS)      cost  \\\n",
       "214   Finger Food,North Indian,Asian,Continental,       1500  Rs. 1500   \n",
       "462                                      Italian,       1200  Rs. 1200   \n",
       "472   Indonesian,Burmese,Japanese,Malaysian,Thai,       1200  Rs. 1200   \n",
       "776   Finger Food,North Indian,Asian,Continental,       1500  Rs. 1500   \n",
       "847          Beverages,Fast Food,Desserts,Bakery,        900   Rs. 900   \n",
       "1238                                       Momos,        300   Rs. 300   \n",
       "1253                                     Italian,       1200  Rs. 1200   \n",
       "1524         Salad,Desserts,European,French,Cafe,        800   Rs. 800   \n",
       "1690                                      Bakery,        250   Rs. 250   \n",
       "1701                          Desserts,Ice Cream,        150   Rs. 150   \n",
       "1737                   Fast Food,Desserts,Bakery,        300   Rs. 300   \n",
       "1773                          Desserts,Ice Cream,        400   Rs. 400   \n",
       "1874                                   Fast Food,        400   Rs. 400   \n",
       "1993                   Fast Food,Desserts,Bakery,        400   Rs. 400   \n",
       "2238                Fast Food,Beverages,Desserts,        300   Rs. 300   \n",
       "2289  Indonesian,Burmese,Japanese,Malaysian,Thai,       1200  Rs. 1200   \n",
       "2710                          Desserts,Beverages,        500   Rs. 500   \n",
       "4643  Biryani,Malwani,Maharashtrian,North Indian,        600   Rs. 600   \n",
       "\n",
       "                                                  liked  \n",
       "214   Cocktails, Pizza, Pasta, Filtered Coffee, Nach...  \n",
       "462   Pasta, Pizza, Garlic Bread, Chocolate Cheeseca...  \n",
       "472   Sushi, Dumplings, Khau Suey, Thai Green Curry,...  \n",
       "776   Cocktails, Pizza, Pasta, Filtered Coffee, Nach...  \n",
       "847                                                 NaN  \n",
       "1238  Paneer Momos, Chicken Tandoori Momos, Iced Pea...  \n",
       "1253  Pasta, Pizza, Garlic Bread, Chocolate Cheeseca...  \n",
       "1524  Pasta, Sandwich, Salad, Fries, Cheesecake, Fis...  \n",
       "1690                               Chips, Dutch Truffle  \n",
       "1701  Waffle Cone, Mango Ice Cream, Tender Coconut I...  \n",
       "1737  Macaroon, Tiramisu, Cupcake, Coffee, Red Velve...  \n",
       "1773                                                NaN  \n",
       "1874  Grilled Chicken Burger, Chicken Cheese Nuggets...  \n",
       "1993                     Chocolate Cake, Pineapple Cake  \n",
       "2238  Oreo Shake, Triple Chocolate, Nutella Waffle, ...  \n",
       "2289  Sushi, Dumplings, Khau Suey, Thai Green Curry,...  \n",
       "2710                   Mango Ice Cream, Oreo Cheesecake  \n",
       "4643                           Mutton Thali, Crab Thali  "
      ]
     },
     "execution_count": 42,
     "metadata": {},
     "output_type": "execute_result"
    }
   ],
   "source": [
    "df_kothrud[df_kothrud['delivery_rating']>4.2]"
   ]
  },
  {
   "cell_type": "markdown",
   "metadata": {},
   "source": [
    "# TOP RATED RESTAURANTS IN BANER"
   ]
  },
  {
   "cell_type": "code",
   "execution_count": 43,
   "metadata": {},
   "outputs": [
    {
     "data": {
      "text/html": [
       "<div>\n",
       "<style scoped>\n",
       "    .dataframe tbody tr th:only-of-type {\n",
       "        vertical-align: middle;\n",
       "    }\n",
       "\n",
       "    .dataframe tbody tr th {\n",
       "        vertical-align: top;\n",
       "    }\n",
       "\n",
       "    .dataframe thead th {\n",
       "        text-align: right;\n",
       "    }\n",
       "</style>\n",
       "<table border=\"1\" class=\"dataframe\">\n",
       "  <thead>\n",
       "    <tr style=\"text-align: right;\">\n",
       "      <th></th>\n",
       "      <th>rest_name</th>\n",
       "      <th>rest_type</th>\n",
       "      <th>loc</th>\n",
       "      <th>dine_rating</th>\n",
       "      <th>dine_reviews</th>\n",
       "      <th>delivery_rating</th>\n",
       "      <th>delivery_reviews</th>\n",
       "      <th>cuisine</th>\n",
       "      <th>Cost (RS)</th>\n",
       "      <th>cost</th>\n",
       "      <th>liked</th>\n",
       "    </tr>\n",
       "  </thead>\n",
       "  <tbody>\n",
       "    <tr>\n",
       "      <th>58</th>\n",
       "      <td>Effingut\\r\\r\\n                                ...</td>\n",
       "      <td>Pub</td>\n",
       "      <td>Baner</td>\n",
       "      <td>4.7</td>\n",
       "      <td>-2,894</td>\n",
       "      <td>4.5</td>\n",
       "      <td>-649</td>\n",
       "      <td>Asian,Italian,Mughlai,North Indian,Continental,</td>\n",
       "      <td>2000</td>\n",
       "      <td>Rs. 2000</td>\n",
       "      <td>Apple Cider, Craft Beer, Nachos, Cocktails, Bu...</td>\n",
       "    </tr>\n",
       "    <tr>\n",
       "      <th>72</th>\n",
       "      <td>The K Factory\\r\\r\\n                           ...</td>\n",
       "      <td>Casual Dining,Lounge</td>\n",
       "      <td>Baner</td>\n",
       "      <td>4.6</td>\n",
       "      <td>-3,742</td>\n",
       "      <td>3.9</td>\n",
       "      <td>-252</td>\n",
       "      <td>Beverages,Biryani,Charcoal Chicken,Salad,Desse...</td>\n",
       "      <td>2000</td>\n",
       "      <td>Rs. 2000</td>\n",
       "      <td>Pasta, Salad, Cheesecake, Cocktails, Pizza, Pe...</td>\n",
       "    </tr>\n",
       "    <tr>\n",
       "      <th>120</th>\n",
       "      <td>Mr Rabbit's Bar &amp; Burrow\\r\\r\\n                ...</td>\n",
       "      <td>Bar,Casual Dining</td>\n",
       "      <td>Baner</td>\n",
       "      <td>4.5</td>\n",
       "      <td>(633 Reviews)</td>\n",
       "      <td>NaN</td>\n",
       "      <td>NaN</td>\n",
       "      <td>South Indian,European,Continental,Finger Food,</td>\n",
       "      <td>1800</td>\n",
       "      <td>Rs. 1800</td>\n",
       "      <td>Cocktails, Tiramisu, Ravioli, Beer, Murgh Ghee...</td>\n",
       "    </tr>\n",
       "    <tr>\n",
       "      <th>142</th>\n",
       "      <td>Urbo\\r\\r\\n</td>\n",
       "      <td>Lounge,Casual Dining</td>\n",
       "      <td>Baner</td>\n",
       "      <td>4.2</td>\n",
       "      <td>(952 Reviews)</td>\n",
       "      <td>NaN</td>\n",
       "      <td>NaN</td>\n",
       "      <td>North Indian,Continental,</td>\n",
       "      <td>1700</td>\n",
       "      <td>Rs. 1700</td>\n",
       "      <td>Pizza, Cocktails, Mocktails, Brownie, Paneer T...</td>\n",
       "    </tr>\n",
       "    <tr>\n",
       "      <th>166</th>\n",
       "      <td>The Urban Foundry\\r\\r\\n                       ...</td>\n",
       "      <td>Bar,Casual Dining</td>\n",
       "      <td>Baner</td>\n",
       "      <td>4.6</td>\n",
       "      <td>(3,912 Reviews)</td>\n",
       "      <td>NaN</td>\n",
       "      <td>NaN</td>\n",
       "      <td>Fast Food,Asian,North Indian,Bar Food,</td>\n",
       "      <td>1600</td>\n",
       "      <td>Rs. 1600</td>\n",
       "      <td>Cocktails, Pizza, Beer, Soya Chaap, Mocktails,...</td>\n",
       "    </tr>\n",
       "    <tr>\n",
       "      <th>...</th>\n",
       "      <td>...</td>\n",
       "      <td>...</td>\n",
       "      <td>...</td>\n",
       "      <td>...</td>\n",
       "      <td>...</td>\n",
       "      <td>...</td>\n",
       "      <td>...</td>\n",
       "      <td>...</td>\n",
       "      <td>...</td>\n",
       "      <td>...</td>\n",
       "      <td>...</td>\n",
       "    </tr>\n",
       "    <tr>\n",
       "      <th>5386</th>\n",
       "      <td>I'm Lion, Strictly Non-Veg\\r\\n                ...</td>\n",
       "      <td>Casual Dining</td>\n",
       "      <td>Baner</td>\n",
       "      <td>4.2</td>\n",
       "      <td>-271</td>\n",
       "      <td>4.0</td>\n",
       "      <td>-355</td>\n",
       "      <td>Konkan,Seafood,Goan,Mangalorean,</td>\n",
       "      <td>800</td>\n",
       "      <td>Rs. 800</td>\n",
       "      <td>Sea Food, Neer Dosa, Sol Kadhi, Fry Prawns, Su...</td>\n",
       "    </tr>\n",
       "    <tr>\n",
       "      <th>5390</th>\n",
       "      <td>The Curious Kitchen &amp; Bar\\r\\n                 ...</td>\n",
       "      <td>Casual Dining,Bar</td>\n",
       "      <td>Baner</td>\n",
       "      <td>4.2</td>\n",
       "      <td>-248</td>\n",
       "      <td>3.6</td>\n",
       "      <td>-842</td>\n",
       "      <td>Italian,Continental,Chinese,North Indian,</td>\n",
       "      <td>900</td>\n",
       "      <td>Rs. 900</td>\n",
       "      <td>Mocktails, Brownie, Caramel Custard, Paan Moji...</td>\n",
       "    </tr>\n",
       "    <tr>\n",
       "      <th>5417</th>\n",
       "      <td>Punjabi Rasoi\\r\\n                             ...</td>\n",
       "      <td>NaN</td>\n",
       "      <td>Baner</td>\n",
       "      <td>4.0</td>\n",
       "      <td>(137 Reviews)</td>\n",
       "      <td>NaN</td>\n",
       "      <td>NaN</td>\n",
       "      <td>North Indian,</td>\n",
       "      <td>300</td>\n",
       "      <td>Rs. 300</td>\n",
       "      <td>NaN</td>\n",
       "    </tr>\n",
       "    <tr>\n",
       "      <th>5418</th>\n",
       "      <td>Tokyo Bakery\\r\\n                              ...</td>\n",
       "      <td>Bakery</td>\n",
       "      <td>Baner</td>\n",
       "      <td>4.0</td>\n",
       "      <td>(49 Reviews)</td>\n",
       "      <td>NaN</td>\n",
       "      <td>NaN</td>\n",
       "      <td>Bakery,</td>\n",
       "      <td>150</td>\n",
       "      <td>Rs. 150</td>\n",
       "      <td>NaN</td>\n",
       "    </tr>\n",
       "    <tr>\n",
       "      <th>5420</th>\n",
       "      <td>Shawarma, Meals &amp; More\\r\\n                    ...</td>\n",
       "      <td>NaN</td>\n",
       "      <td>Baner</td>\n",
       "      <td>2.6</td>\n",
       "      <td>-42</td>\n",
       "      <td>3.4</td>\n",
       "      <td>-343</td>\n",
       "      <td>Burger,Sandwich,Beverages,Rolls,Lebanese,</td>\n",
       "      <td>300</td>\n",
       "      <td>Rs. 300</td>\n",
       "      <td>NaN</td>\n",
       "    </tr>\n",
       "  </tbody>\n",
       "</table>\n",
       "<p>219 rows × 11 columns</p>\n",
       "</div>"
      ],
      "text/plain": [
       "                                              rest_name             rest_type  \\\n",
       "58    Effingut\\r\\r\\n                                ...                   Pub   \n",
       "72    The K Factory\\r\\r\\n                           ...  Casual Dining,Lounge   \n",
       "120   Mr Rabbit's Bar & Burrow\\r\\r\\n                ...     Bar,Casual Dining   \n",
       "142      Urbo\\r\\r\\n                                      Lounge,Casual Dining   \n",
       "166   The Urban Foundry\\r\\r\\n                       ...     Bar,Casual Dining   \n",
       "...                                                 ...                   ...   \n",
       "5386  I'm Lion, Strictly Non-Veg\\r\\n                ...         Casual Dining   \n",
       "5390  The Curious Kitchen & Bar\\r\\n                 ...     Casual Dining,Bar   \n",
       "5417  Punjabi Rasoi\\r\\n                             ...                   NaN   \n",
       "5418  Tokyo Bakery\\r\\n                              ...                Bakery   \n",
       "5420  Shawarma, Meals & More\\r\\n                    ...                   NaN   \n",
       "\n",
       "        loc  dine_rating     dine_reviews  delivery_rating delivery_reviews  \\\n",
       "58    Baner          4.7           -2,894              4.5             -649   \n",
       "72    Baner          4.6           -3,742              3.9             -252   \n",
       "120   Baner          4.5    (633 Reviews)              NaN              NaN   \n",
       "142   Baner          4.2    (952 Reviews)              NaN              NaN   \n",
       "166   Baner          4.6  (3,912 Reviews)              NaN              NaN   \n",
       "...     ...          ...              ...              ...              ...   \n",
       "5386  Baner          4.2             -271              4.0             -355   \n",
       "5390  Baner          4.2             -248              3.6             -842   \n",
       "5417  Baner          4.0    (137 Reviews)              NaN              NaN   \n",
       "5418  Baner          4.0     (49 Reviews)              NaN              NaN   \n",
       "5420  Baner          2.6              -42              3.4             -343   \n",
       "\n",
       "                                                cuisine  Cost (RS)      cost  \\\n",
       "58      Asian,Italian,Mughlai,North Indian,Continental,       2000  Rs. 2000   \n",
       "72    Beverages,Biryani,Charcoal Chicken,Salad,Desse...       2000  Rs. 2000   \n",
       "120      South Indian,European,Continental,Finger Food,       1800  Rs. 1800   \n",
       "142                           North Indian,Continental,       1700  Rs. 1700   \n",
       "166              Fast Food,Asian,North Indian,Bar Food,       1600  Rs. 1600   \n",
       "...                                                 ...        ...       ...   \n",
       "5386                   Konkan,Seafood,Goan,Mangalorean,        800   Rs. 800   \n",
       "5390          Italian,Continental,Chinese,North Indian,        900   Rs. 900   \n",
       "5417                                      North Indian,        300   Rs. 300   \n",
       "5418                                            Bakery,        150   Rs. 150   \n",
       "5420          Burger,Sandwich,Beverages,Rolls,Lebanese,        300   Rs. 300   \n",
       "\n",
       "                                                  liked  \n",
       "58    Apple Cider, Craft Beer, Nachos, Cocktails, Bu...  \n",
       "72    Pasta, Salad, Cheesecake, Cocktails, Pizza, Pe...  \n",
       "120   Cocktails, Tiramisu, Ravioli, Beer, Murgh Ghee...  \n",
       "142   Pizza, Cocktails, Mocktails, Brownie, Paneer T...  \n",
       "166   Cocktails, Pizza, Beer, Soya Chaap, Mocktails,...  \n",
       "...                                                 ...  \n",
       "5386  Sea Food, Neer Dosa, Sol Kadhi, Fry Prawns, Su...  \n",
       "5390  Mocktails, Brownie, Caramel Custard, Paan Moji...  \n",
       "5417                                                NaN  \n",
       "5418                                                NaN  \n",
       "5420                                                NaN  \n",
       "\n",
       "[219 rows x 11 columns]"
      ]
     },
     "execution_count": 43,
     "metadata": {},
     "output_type": "execute_result"
    }
   ],
   "source": [
    "df_baner=df[df['loc']=='Baner']\n",
    "df_baner"
   ]
  },
  {
   "cell_type": "code",
   "execution_count": 44,
   "metadata": {},
   "outputs": [
    {
     "data": {
      "text/html": [
       "<div>\n",
       "<style scoped>\n",
       "    .dataframe tbody tr th:only-of-type {\n",
       "        vertical-align: middle;\n",
       "    }\n",
       "\n",
       "    .dataframe tbody tr th {\n",
       "        vertical-align: top;\n",
       "    }\n",
       "\n",
       "    .dataframe thead th {\n",
       "        text-align: right;\n",
       "    }\n",
       "</style>\n",
       "<table border=\"1\" class=\"dataframe\">\n",
       "  <thead>\n",
       "    <tr style=\"text-align: right;\">\n",
       "      <th></th>\n",
       "      <th>rest_name</th>\n",
       "      <th>rest_type</th>\n",
       "      <th>loc</th>\n",
       "      <th>dine_rating</th>\n",
       "      <th>dine_reviews</th>\n",
       "      <th>delivery_rating</th>\n",
       "      <th>delivery_reviews</th>\n",
       "      <th>cuisine</th>\n",
       "      <th>Cost (RS)</th>\n",
       "      <th>cost</th>\n",
       "      <th>liked</th>\n",
       "    </tr>\n",
       "  </thead>\n",
       "  <tbody>\n",
       "    <tr>\n",
       "      <th>58</th>\n",
       "      <td>Effingut\\r\\r\\n                                ...</td>\n",
       "      <td>Pub</td>\n",
       "      <td>Baner</td>\n",
       "      <td>4.7</td>\n",
       "      <td>-2,894</td>\n",
       "      <td>4.5</td>\n",
       "      <td>-649</td>\n",
       "      <td>Asian,Italian,Mughlai,North Indian,Continental,</td>\n",
       "      <td>2000</td>\n",
       "      <td>Rs. 2000</td>\n",
       "      <td>Apple Cider, Craft Beer, Nachos, Cocktails, Bu...</td>\n",
       "    </tr>\n",
       "    <tr>\n",
       "      <th>72</th>\n",
       "      <td>The K Factory\\r\\r\\n                           ...</td>\n",
       "      <td>Casual Dining,Lounge</td>\n",
       "      <td>Baner</td>\n",
       "      <td>4.6</td>\n",
       "      <td>-3,742</td>\n",
       "      <td>3.9</td>\n",
       "      <td>-252</td>\n",
       "      <td>Beverages,Biryani,Charcoal Chicken,Salad,Desse...</td>\n",
       "      <td>2000</td>\n",
       "      <td>Rs. 2000</td>\n",
       "      <td>Pasta, Salad, Cheesecake, Cocktails, Pizza, Pe...</td>\n",
       "    </tr>\n",
       "    <tr>\n",
       "      <th>120</th>\n",
       "      <td>Mr Rabbit's Bar &amp; Burrow\\r\\r\\n                ...</td>\n",
       "      <td>Bar,Casual Dining</td>\n",
       "      <td>Baner</td>\n",
       "      <td>4.5</td>\n",
       "      <td>(633 Reviews)</td>\n",
       "      <td>NaN</td>\n",
       "      <td>NaN</td>\n",
       "      <td>South Indian,European,Continental,Finger Food,</td>\n",
       "      <td>1800</td>\n",
       "      <td>Rs. 1800</td>\n",
       "      <td>Cocktails, Tiramisu, Ravioli, Beer, Murgh Ghee...</td>\n",
       "    </tr>\n",
       "    <tr>\n",
       "      <th>166</th>\n",
       "      <td>The Urban Foundry\\r\\r\\n                       ...</td>\n",
       "      <td>Bar,Casual Dining</td>\n",
       "      <td>Baner</td>\n",
       "      <td>4.6</td>\n",
       "      <td>(3,912 Reviews)</td>\n",
       "      <td>NaN</td>\n",
       "      <td>NaN</td>\n",
       "      <td>Fast Food,Asian,North Indian,Bar Food,</td>\n",
       "      <td>1600</td>\n",
       "      <td>Rs. 1600</td>\n",
       "      <td>Cocktails, Pizza, Beer, Soya Chaap, Mocktails,...</td>\n",
       "    </tr>\n",
       "    <tr>\n",
       "      <th>221</th>\n",
       "      <td>Elephant &amp; Co.\\r\\r\\n                          ...</td>\n",
       "      <td>Microbrewery</td>\n",
       "      <td>Baner</td>\n",
       "      <td>4.3</td>\n",
       "      <td>-471</td>\n",
       "      <td>4.1</td>\n",
       "      <td>-238</td>\n",
       "      <td>Salad,Continental,Finger Food,</td>\n",
       "      <td>1500</td>\n",
       "      <td>Rs. 1500</td>\n",
       "      <td>Cocktails, Popcorn, Sangria, Beer, Mushroom Cr...</td>\n",
       "    </tr>\n",
       "    <tr>\n",
       "      <th>257</th>\n",
       "      <td>TTF - The Tenth Floor\\r\\r\\n                   ...</td>\n",
       "      <td>Bar,Casual Dining</td>\n",
       "      <td>Baner</td>\n",
       "      <td>4.4</td>\n",
       "      <td>(708 Reviews)</td>\n",
       "      <td>NaN</td>\n",
       "      <td>NaN</td>\n",
       "      <td>Finger Food,Continental,North Indian,</td>\n",
       "      <td>1500</td>\n",
       "      <td>Rs. 1500</td>\n",
       "      <td>NaN</td>\n",
       "    </tr>\n",
       "    <tr>\n",
       "      <th>384</th>\n",
       "      <td>Linkin Barrel\\r\\r\\n                           ...</td>\n",
       "      <td>Bar</td>\n",
       "      <td>Baner</td>\n",
       "      <td>4.4</td>\n",
       "      <td>(1,219 Reviews)</td>\n",
       "      <td>NaN</td>\n",
       "      <td>NaN</td>\n",
       "      <td>North Indian,Italian,Modern Indian,Continental,</td>\n",
       "      <td>1300</td>\n",
       "      <td>Rs. 1300</td>\n",
       "      <td>Cocktails, Pizza, Nachos, Mocktails, Long Isla...</td>\n",
       "    </tr>\n",
       "    <tr>\n",
       "      <th>388</th>\n",
       "      <td>Bhairavee Pure Veg Restaurant\\r\\r\\n           ...</td>\n",
       "      <td>Casual Dining</td>\n",
       "      <td>Baner</td>\n",
       "      <td>4.3</td>\n",
       "      <td>-948</td>\n",
       "      <td>3.9</td>\n",
       "      <td>-1,947</td>\n",
       "      <td>Beverages,Desserts,Rolls,Biryani,Continental,C...</td>\n",
       "      <td>1300</td>\n",
       "      <td>Rs. 1300</td>\n",
       "      <td>Pasta, Naan, Brownie, Paneer Romanchak, Parath...</td>\n",
       "    </tr>\n",
       "    <tr>\n",
       "      <th>420</th>\n",
       "      <td>The Asian Box Resto Bar\\r\\r\\n                 ...</td>\n",
       "      <td>Casual Dining</td>\n",
       "      <td>Baner</td>\n",
       "      <td>4.3</td>\n",
       "      <td>-465</td>\n",
       "      <td>4.1</td>\n",
       "      <td>-492</td>\n",
       "      <td>Singaporean,Indonesian,Japanese,Thai,Malaysian...</td>\n",
       "      <td>1300</td>\n",
       "      <td>Rs. 1300</td>\n",
       "      <td>Khao Suey, Khau Suey, Noodle, Cocktails, Sushi...</td>\n",
       "    </tr>\n",
       "    <tr>\n",
       "      <th>599</th>\n",
       "      <td>Maratha Samrat\\r\\r\\n                          ...</td>\n",
       "      <td>Casual Dining</td>\n",
       "      <td>Baner</td>\n",
       "      <td>4.4</td>\n",
       "      <td>-1,072</td>\n",
       "      <td>4.2</td>\n",
       "      <td>-2,684</td>\n",
       "      <td>Maharashtrian,</td>\n",
       "      <td>1100</td>\n",
       "      <td>Rs. 1100</td>\n",
       "      <td>Chicken Thali, Mutton Thali, Pandhra Rassa, No...</td>\n",
       "    </tr>\n",
       "    <tr>\n",
       "      <th>975</th>\n",
       "      <td>7th Heaven\\r\\n                                ...</td>\n",
       "      <td>Bakery</td>\n",
       "      <td>Baner</td>\n",
       "      <td>4.3</td>\n",
       "      <td>-484</td>\n",
       "      <td>4.0</td>\n",
       "      <td>-2,331</td>\n",
       "      <td>Desserts,Bakery,</td>\n",
       "      <td>400</td>\n",
       "      <td>Rs. 400</td>\n",
       "      <td>Belgium Chocolate Cake, Chocolava Cake, Cream ...</td>\n",
       "    </tr>\n",
       "    <tr>\n",
       "      <th>1243</th>\n",
       "      <td>The Urban Foundry\\r\\n                         ...</td>\n",
       "      <td>Bar,Casual Dining</td>\n",
       "      <td>Baner</td>\n",
       "      <td>4.6</td>\n",
       "      <td>(3,912 Reviews)</td>\n",
       "      <td>NaN</td>\n",
       "      <td>NaN</td>\n",
       "      <td>Fast Food,Asian,North Indian,Bar Food,</td>\n",
       "      <td>1600</td>\n",
       "      <td>Rs. 1600</td>\n",
       "      <td>Cocktails, Pizza, Beer, Soya Chaap, Mocktails,...</td>\n",
       "    </tr>\n",
       "    <tr>\n",
       "      <th>1305</th>\n",
       "      <td>Maratha Samrat\\r\\n                            ...</td>\n",
       "      <td>Casual Dining</td>\n",
       "      <td>Baner</td>\n",
       "      <td>4.4</td>\n",
       "      <td>-1,072</td>\n",
       "      <td>4.2</td>\n",
       "      <td>-2,684</td>\n",
       "      <td>Maharashtrian,</td>\n",
       "      <td>1100</td>\n",
       "      <td>Rs. 1100</td>\n",
       "      <td>Chicken Thali, Mutton Thali, Pandhra Rassa, No...</td>\n",
       "    </tr>\n",
       "    <tr>\n",
       "      <th>1573</th>\n",
       "      <td>Effingut\\r\\n</td>\n",
       "      <td>Pub</td>\n",
       "      <td>Baner</td>\n",
       "      <td>4.7</td>\n",
       "      <td>-2,894</td>\n",
       "      <td>4.5</td>\n",
       "      <td>-649</td>\n",
       "      <td>Asian,Italian,Mughlai,North Indian,Continental,</td>\n",
       "      <td>2000</td>\n",
       "      <td>Rs. 2000</td>\n",
       "      <td>Apple Cider, Craft Beer, Nachos, Cocktails, Bu...</td>\n",
       "    </tr>\n",
       "    <tr>\n",
       "      <th>2046</th>\n",
       "      <td>Andaground\\r\\n                                ...</td>\n",
       "      <td>Quick Bites</td>\n",
       "      <td>Baner</td>\n",
       "      <td>4.8</td>\n",
       "      <td>-763</td>\n",
       "      <td>4.2</td>\n",
       "      <td>-243</td>\n",
       "      <td>Beverages,Healthy Food,Fast Food,</td>\n",
       "      <td>600</td>\n",
       "      <td>Rs. 600</td>\n",
       "      <td>Chicken Keema, Iced Tea, Omelette, Sandwich, K...</td>\n",
       "    </tr>\n",
       "    <tr>\n",
       "      <th>2165</th>\n",
       "      <td>Elephant &amp; Co.\\r\\n                            ...</td>\n",
       "      <td>Microbrewery</td>\n",
       "      <td>Baner</td>\n",
       "      <td>4.3</td>\n",
       "      <td>-471</td>\n",
       "      <td>4.1</td>\n",
       "      <td>-238</td>\n",
       "      <td>Salad,Continental,Finger Food,</td>\n",
       "      <td>1500</td>\n",
       "      <td>Rs. 1500</td>\n",
       "      <td>Cocktails, Popcorn, Sangria, Beer, Mushroom Cr...</td>\n",
       "    </tr>\n",
       "    <tr>\n",
       "      <th>2219</th>\n",
       "      <td>FatCook\\r\\n</td>\n",
       "      <td>Casual Dining</td>\n",
       "      <td>Baner</td>\n",
       "      <td>4.3</td>\n",
       "      <td>-823</td>\n",
       "      <td>4.0</td>\n",
       "      <td>-1,199</td>\n",
       "      <td>Thai,Chinese,Italian,North Indian,</td>\n",
       "      <td>800</td>\n",
       "      <td>Rs. 800</td>\n",
       "      <td>Pasta, Pizza, Nachos, Tom Kha Soup, Garlic Bre...</td>\n",
       "    </tr>\n",
       "    <tr>\n",
       "      <th>2277</th>\n",
       "      <td>Cream Stone\\r\\n                               ...</td>\n",
       "      <td>Dessert Parlor</td>\n",
       "      <td>Baner</td>\n",
       "      <td>4.5</td>\n",
       "      <td>-1,441</td>\n",
       "      <td>4.2</td>\n",
       "      <td>-3,972</td>\n",
       "      <td>Desserts,Ice Cream,</td>\n",
       "      <td>400</td>\n",
       "      <td>Rs. 400</td>\n",
       "      <td>Ferrero Rocher, Chocolate Overdose, Waffles, D...</td>\n",
       "    </tr>\n",
       "    <tr>\n",
       "      <th>2439</th>\n",
       "      <td>Idlicious\\r\\n</td>\n",
       "      <td>Quick Bites</td>\n",
       "      <td>Baner</td>\n",
       "      <td>4.5</td>\n",
       "      <td>-1,025</td>\n",
       "      <td>4.3</td>\n",
       "      <td>-357</td>\n",
       "      <td>South Indian,</td>\n",
       "      <td>250</td>\n",
       "      <td>Rs. 250</td>\n",
       "      <td>Idli, Filtered Coffee, Vada, Mysore Masala Dos...</td>\n",
       "    </tr>\n",
       "    <tr>\n",
       "      <th>2561</th>\n",
       "      <td>Linkin Barrel\\r\\n                             ...</td>\n",
       "      <td>Bar</td>\n",
       "      <td>Baner</td>\n",
       "      <td>4.4</td>\n",
       "      <td>(1,219 Reviews)</td>\n",
       "      <td>NaN</td>\n",
       "      <td>NaN</td>\n",
       "      <td>North Indian,Italian,Modern Indian,Continental,</td>\n",
       "      <td>1300</td>\n",
       "      <td>Rs. 1300</td>\n",
       "      <td>Cocktails, Pizza, Nachos, Mocktails, Long Isla...</td>\n",
       "    </tr>\n",
       "    <tr>\n",
       "      <th>3284</th>\n",
       "      <td>Bhairavee Pure Veg Restaurant\\r\\n             ...</td>\n",
       "      <td>Casual Dining</td>\n",
       "      <td>Baner</td>\n",
       "      <td>4.3</td>\n",
       "      <td>-948</td>\n",
       "      <td>3.9</td>\n",
       "      <td>-1,947</td>\n",
       "      <td>Beverages,Desserts,Rolls,Biryani,Continental,C...</td>\n",
       "      <td>1300</td>\n",
       "      <td>Rs. 1300</td>\n",
       "      <td>Pasta, Naan, Brownie, Paneer Romanchak, Parath...</td>\n",
       "    </tr>\n",
       "    <tr>\n",
       "      <th>3501</th>\n",
       "      <td>The K Factory\\r\\n                             ...</td>\n",
       "      <td>Casual Dining,Lounge</td>\n",
       "      <td>Baner</td>\n",
       "      <td>4.6</td>\n",
       "      <td>-3,742</td>\n",
       "      <td>3.9</td>\n",
       "      <td>-252</td>\n",
       "      <td>Beverages,Biryani,Charcoal Chicken,Salad,Desse...</td>\n",
       "      <td>2000</td>\n",
       "      <td>Rs. 2000</td>\n",
       "      <td>Pasta, Salad, Cheesecake, Cocktails, Pizza, Pe...</td>\n",
       "    </tr>\n",
       "    <tr>\n",
       "      <th>4047</th>\n",
       "      <td>World of Desserts\\r\\n                         ...</td>\n",
       "      <td>Dessert Parlor</td>\n",
       "      <td>Baner</td>\n",
       "      <td>4.3</td>\n",
       "      <td>(414 Reviews)</td>\n",
       "      <td>NaN</td>\n",
       "      <td>NaN</td>\n",
       "      <td>Beverages,Desserts,</td>\n",
       "      <td>400</td>\n",
       "      <td>Rs. 400</td>\n",
       "      <td>Waffles, Churros, Freak Shake, Vanilla Ice Cre...</td>\n",
       "    </tr>\n",
       "    <tr>\n",
       "      <th>4617</th>\n",
       "      <td>Makkhan Maar Ke\\r\\n                           ...</td>\n",
       "      <td>NaN</td>\n",
       "      <td>Baner</td>\n",
       "      <td>4.3</td>\n",
       "      <td>(3,618 Reviews)</td>\n",
       "      <td>NaN</td>\n",
       "      <td>NaN</td>\n",
       "      <td>Kebab,Biryani,Afghan,Mughlai,North Indian,</td>\n",
       "      <td>700</td>\n",
       "      <td>Rs. 700</td>\n",
       "      <td>Butter Chicken, Dal Makhani, Paneer Lababdar, ...</td>\n",
       "    </tr>\n",
       "    <tr>\n",
       "      <th>5142</th>\n",
       "      <td>The Asian Box Resto Bar\\r\\n                   ...</td>\n",
       "      <td>Casual Dining</td>\n",
       "      <td>Baner</td>\n",
       "      <td>4.3</td>\n",
       "      <td>-465</td>\n",
       "      <td>4.1</td>\n",
       "      <td>-492</td>\n",
       "      <td>Singaporean,Indonesian,Japanese,Thai,Malaysian...</td>\n",
       "      <td>1300</td>\n",
       "      <td>Rs. 1300</td>\n",
       "      <td>Khao Suey, Khau Suey, Noodle, Cocktails, Sushi...</td>\n",
       "    </tr>\n",
       "  </tbody>\n",
       "</table>\n",
       "</div>"
      ],
      "text/plain": [
       "                                              rest_name             rest_type  \\\n",
       "58    Effingut\\r\\r\\n                                ...                   Pub   \n",
       "72    The K Factory\\r\\r\\n                           ...  Casual Dining,Lounge   \n",
       "120   Mr Rabbit's Bar & Burrow\\r\\r\\n                ...     Bar,Casual Dining   \n",
       "166   The Urban Foundry\\r\\r\\n                       ...     Bar,Casual Dining   \n",
       "221   Elephant & Co.\\r\\r\\n                          ...          Microbrewery   \n",
       "257   TTF - The Tenth Floor\\r\\r\\n                   ...     Bar,Casual Dining   \n",
       "384   Linkin Barrel\\r\\r\\n                           ...                   Bar   \n",
       "388   Bhairavee Pure Veg Restaurant\\r\\r\\n           ...         Casual Dining   \n",
       "420   The Asian Box Resto Bar\\r\\r\\n                 ...         Casual Dining   \n",
       "599   Maratha Samrat\\r\\r\\n                          ...         Casual Dining   \n",
       "975   7th Heaven\\r\\n                                ...                Bakery   \n",
       "1243  The Urban Foundry\\r\\n                         ...     Bar,Casual Dining   \n",
       "1305  Maratha Samrat\\r\\n                            ...         Casual Dining   \n",
       "1573   Effingut\\r\\n                                                       Pub   \n",
       "2046  Andaground\\r\\n                                ...           Quick Bites   \n",
       "2165  Elephant & Co.\\r\\n                            ...          Microbrewery   \n",
       "2219    FatCook\\r\\n                                             Casual Dining   \n",
       "2277  Cream Stone\\r\\n                               ...        Dessert Parlor   \n",
       "2439  Idlicious\\r\\n                                               Quick Bites   \n",
       "2561  Linkin Barrel\\r\\n                             ...                   Bar   \n",
       "3284  Bhairavee Pure Veg Restaurant\\r\\n             ...         Casual Dining   \n",
       "3501  The K Factory\\r\\n                             ...  Casual Dining,Lounge   \n",
       "4047  World of Desserts\\r\\n                         ...        Dessert Parlor   \n",
       "4617  Makkhan Maar Ke\\r\\n                           ...                   NaN   \n",
       "5142  The Asian Box Resto Bar\\r\\n                   ...         Casual Dining   \n",
       "\n",
       "        loc  dine_rating     dine_reviews  delivery_rating delivery_reviews  \\\n",
       "58    Baner          4.7           -2,894              4.5             -649   \n",
       "72    Baner          4.6           -3,742              3.9             -252   \n",
       "120   Baner          4.5    (633 Reviews)              NaN              NaN   \n",
       "166   Baner          4.6  (3,912 Reviews)              NaN              NaN   \n",
       "221   Baner          4.3             -471              4.1             -238   \n",
       "257   Baner          4.4    (708 Reviews)              NaN              NaN   \n",
       "384   Baner          4.4  (1,219 Reviews)              NaN              NaN   \n",
       "388   Baner          4.3             -948              3.9           -1,947   \n",
       "420   Baner          4.3             -465              4.1             -492   \n",
       "599   Baner          4.4           -1,072              4.2           -2,684   \n",
       "975   Baner          4.3             -484              4.0           -2,331   \n",
       "1243  Baner          4.6  (3,912 Reviews)              NaN              NaN   \n",
       "1305  Baner          4.4           -1,072              4.2           -2,684   \n",
       "1573  Baner          4.7           -2,894              4.5             -649   \n",
       "2046  Baner          4.8             -763              4.2             -243   \n",
       "2165  Baner          4.3             -471              4.1             -238   \n",
       "2219  Baner          4.3             -823              4.0           -1,199   \n",
       "2277  Baner          4.5           -1,441              4.2           -3,972   \n",
       "2439  Baner          4.5           -1,025              4.3             -357   \n",
       "2561  Baner          4.4  (1,219 Reviews)              NaN              NaN   \n",
       "3284  Baner          4.3             -948              3.9           -1,947   \n",
       "3501  Baner          4.6           -3,742              3.9             -252   \n",
       "4047  Baner          4.3    (414 Reviews)              NaN              NaN   \n",
       "4617  Baner          4.3  (3,618 Reviews)              NaN              NaN   \n",
       "5142  Baner          4.3             -465              4.1             -492   \n",
       "\n",
       "                                                cuisine  Cost (RS)      cost  \\\n",
       "58      Asian,Italian,Mughlai,North Indian,Continental,       2000  Rs. 2000   \n",
       "72    Beverages,Biryani,Charcoal Chicken,Salad,Desse...       2000  Rs. 2000   \n",
       "120      South Indian,European,Continental,Finger Food,       1800  Rs. 1800   \n",
       "166              Fast Food,Asian,North Indian,Bar Food,       1600  Rs. 1600   \n",
       "221                      Salad,Continental,Finger Food,       1500  Rs. 1500   \n",
       "257               Finger Food,Continental,North Indian,       1500  Rs. 1500   \n",
       "384     North Indian,Italian,Modern Indian,Continental,       1300  Rs. 1300   \n",
       "388   Beverages,Desserts,Rolls,Biryani,Continental,C...       1300  Rs. 1300   \n",
       "420   Singaporean,Indonesian,Japanese,Thai,Malaysian...       1300  Rs. 1300   \n",
       "599                                      Maharashtrian,       1100  Rs. 1100   \n",
       "975                                    Desserts,Bakery,        400   Rs. 400   \n",
       "1243             Fast Food,Asian,North Indian,Bar Food,       1600  Rs. 1600   \n",
       "1305                                     Maharashtrian,       1100  Rs. 1100   \n",
       "1573    Asian,Italian,Mughlai,North Indian,Continental,       2000  Rs. 2000   \n",
       "2046                  Beverages,Healthy Food,Fast Food,        600   Rs. 600   \n",
       "2165                     Salad,Continental,Finger Food,       1500  Rs. 1500   \n",
       "2219                 Thai,Chinese,Italian,North Indian,        800   Rs. 800   \n",
       "2277                                Desserts,Ice Cream,        400   Rs. 400   \n",
       "2439                                      South Indian,        250   Rs. 250   \n",
       "2561    North Indian,Italian,Modern Indian,Continental,       1300  Rs. 1300   \n",
       "3284  Beverages,Desserts,Rolls,Biryani,Continental,C...       1300  Rs. 1300   \n",
       "3501  Beverages,Biryani,Charcoal Chicken,Salad,Desse...       2000  Rs. 2000   \n",
       "4047                                Beverages,Desserts,        400   Rs. 400   \n",
       "4617         Kebab,Biryani,Afghan,Mughlai,North Indian,        700   Rs. 700   \n",
       "5142  Singaporean,Indonesian,Japanese,Thai,Malaysian...       1300  Rs. 1300   \n",
       "\n",
       "                                                  liked  \n",
       "58    Apple Cider, Craft Beer, Nachos, Cocktails, Bu...  \n",
       "72    Pasta, Salad, Cheesecake, Cocktails, Pizza, Pe...  \n",
       "120   Cocktails, Tiramisu, Ravioli, Beer, Murgh Ghee...  \n",
       "166   Cocktails, Pizza, Beer, Soya Chaap, Mocktails,...  \n",
       "221   Cocktails, Popcorn, Sangria, Beer, Mushroom Cr...  \n",
       "257                                                 NaN  \n",
       "384   Cocktails, Pizza, Nachos, Mocktails, Long Isla...  \n",
       "388   Pasta, Naan, Brownie, Paneer Romanchak, Parath...  \n",
       "420   Khao Suey, Khau Suey, Noodle, Cocktails, Sushi...  \n",
       "599   Chicken Thali, Mutton Thali, Pandhra Rassa, No...  \n",
       "975   Belgium Chocolate Cake, Chocolava Cake, Cream ...  \n",
       "1243  Cocktails, Pizza, Beer, Soya Chaap, Mocktails,...  \n",
       "1305  Chicken Thali, Mutton Thali, Pandhra Rassa, No...  \n",
       "1573  Apple Cider, Craft Beer, Nachos, Cocktails, Bu...  \n",
       "2046  Chicken Keema, Iced Tea, Omelette, Sandwich, K...  \n",
       "2165  Cocktails, Popcorn, Sangria, Beer, Mushroom Cr...  \n",
       "2219  Pasta, Pizza, Nachos, Tom Kha Soup, Garlic Bre...  \n",
       "2277  Ferrero Rocher, Chocolate Overdose, Waffles, D...  \n",
       "2439  Idli, Filtered Coffee, Vada, Mysore Masala Dos...  \n",
       "2561  Cocktails, Pizza, Nachos, Mocktails, Long Isla...  \n",
       "3284  Pasta, Naan, Brownie, Paneer Romanchak, Parath...  \n",
       "3501  Pasta, Salad, Cheesecake, Cocktails, Pizza, Pe...  \n",
       "4047  Waffles, Churros, Freak Shake, Vanilla Ice Cre...  \n",
       "4617  Butter Chicken, Dal Makhani, Paneer Lababdar, ...  \n",
       "5142  Khao Suey, Khau Suey, Noodle, Cocktails, Sushi...  "
      ]
     },
     "execution_count": 44,
     "metadata": {},
     "output_type": "execute_result"
    }
   ],
   "source": [
    "df_baner_top=df_baner[df_baner[\"dine_rating\"]>4.2]\n",
    "df_baner_top"
   ]
  },
  {
   "cell_type": "code",
   "execution_count": 45,
   "metadata": {},
   "outputs": [
    {
     "name": "stdout",
     "output_type": "stream",
     "text": [
      "['Effingut\\r\\r\\n                                    '\n",
      " 'The K Factory\\r\\r\\n                                    '\n",
      " \"Mr Rabbit's Bar & Burrow\\r\\r\\n                                    \"\n",
      " 'The Urban Foundry\\r\\r\\n                                    '\n",
      " 'Elephant & Co.\\r\\r\\n                                    '\n",
      " 'TTF - The Tenth Floor\\r\\r\\n                                    '\n",
      " 'Linkin Barrel\\r\\r\\n                                    '\n",
      " 'Bhairavee Pure Veg Restaurant\\r\\r\\n                                    '\n",
      " 'The Asian Box Resto Bar\\r\\r\\n                                    '\n",
      " 'Maratha Samrat\\r\\r\\n                                    '\n",
      " '7th Heaven\\r\\n                                    '\n",
      " 'The Urban Foundry\\r\\n                                    '\n",
      " 'Maratha Samrat\\r\\n                                    '\n",
      " 'Effingut\\r\\n                                    '\n",
      " 'Andaground\\r\\n                                    '\n",
      " 'Elephant & Co.\\r\\n                                    '\n",
      " 'FatCook\\r\\n                                    '\n",
      " 'Cream Stone\\r\\n                                    '\n",
      " 'Idlicious\\r\\n                                    '\n",
      " 'Linkin Barrel\\r\\n                                    '\n",
      " 'Bhairavee Pure Veg Restaurant\\r\\n                                    '\n",
      " 'The K Factory\\r\\n                                    '\n",
      " 'World of Desserts\\r\\n                                    '\n",
      " 'Makkhan Maar Ke\\r\\n                                    '\n",
      " 'The Asian Box Resto Bar\\r\\n                                    ']\n"
     ]
    }
   ],
   "source": [
    "print((df_baner_top['rest_name'].unique()))\n",
    "#there are duplicate restaurants\""
   ]
  },
  {
   "cell_type": "markdown",
   "metadata": {},
   "source": [
    "we can see that some restaurants names are almost same but they are repeating.\n"
   ]
  },
  {
   "cell_type": "code",
   "execution_count": 46,
   "metadata": {},
   "outputs": [],
   "source": [
    "#lets clean the strings\n",
    "baner_top_rest=[]\n",
    "for i in df_baner_top['rest_name'].unique():\n",
    "    i=i.strip()\n",
    "    baner_top_rest.append(i)\n",
    "    \n",
    "    \n",
    "\n"
   ]
  },
  {
   "cell_type": "code",
   "execution_count": 47,
   "metadata": {},
   "outputs": [
    {
     "data": {
      "text/plain": [
       "['Effingut',\n",
       " 'The K Factory',\n",
       " \"Mr Rabbit's Bar & Burrow\",\n",
       " 'The Urban Foundry',\n",
       " 'Elephant & Co.',\n",
       " 'TTF - The Tenth Floor',\n",
       " 'Linkin Barrel',\n",
       " 'Bhairavee Pure Veg Restaurant',\n",
       " 'The Asian Box Resto Bar',\n",
       " 'Maratha Samrat',\n",
       " '7th Heaven',\n",
       " 'The Urban Foundry',\n",
       " 'Maratha Samrat',\n",
       " 'Effingut',\n",
       " 'Andaground',\n",
       " 'Elephant & Co.',\n",
       " 'FatCook',\n",
       " 'Cream Stone',\n",
       " 'Idlicious',\n",
       " 'Linkin Barrel',\n",
       " 'Bhairavee Pure Veg Restaurant',\n",
       " 'The K Factory',\n",
       " 'World of Desserts',\n",
       " 'Makkhan Maar Ke',\n",
       " 'The Asian Box Resto Bar']"
      ]
     },
     "execution_count": 47,
     "metadata": {},
     "output_type": "execute_result"
    }
   ],
   "source": [
    "baner_top_rest\n",
    "#still there are duplicates in this, lets remove the duplicate values"
   ]
  },
  {
   "cell_type": "code",
   "execution_count": 48,
   "metadata": {},
   "outputs": [
    {
     "name": "stdout",
     "output_type": "stream",
     "text": [
      "['Effingut', 'The K Factory', \"Mr Rabbit's Bar & Burrow\", 'The Urban Foundry', 'Elephant & Co.', 'TTF - The Tenth Floor', 'Linkin Barrel', 'Bhairavee Pure Veg Restaurant', 'The Asian Box Resto Bar', 'Maratha Samrat', '7th Heaven', 'Andaground', 'FatCook', 'Cream Stone', 'Idlicious', 'World of Desserts', 'Makkhan Maar Ke']\n",
      "17\n"
     ]
    }
   ],
   "source": [
    "#lets remove duplicates from the list\n",
    "baner_rest_top=[]\n",
    "for i in baner_top_rest:\n",
    "    if i not in baner_rest_top:\n",
    "        baner_rest_top.append(i)\n",
    "\n",
    "print(baner_rest_top)\n",
    "print(len(baner_rest_top))"
   ]
  },
  {
   "cell_type": "markdown",
   "metadata": {},
   "source": [
    "There are 17 restaurants in baner which got rating more than 4.2"
   ]
  },
  {
   "cell_type": "markdown",
   "metadata": {},
   "source": [
    "# Restaurants which got 0 rating on Zomato in Pune."
   ]
  },
  {
   "cell_type": "code",
   "execution_count": 49,
   "metadata": {},
   "outputs": [
    {
     "data": {
      "text/html": [
       "<div>\n",
       "<style scoped>\n",
       "    .dataframe tbody tr th:only-of-type {\n",
       "        vertical-align: middle;\n",
       "    }\n",
       "\n",
       "    .dataframe tbody tr th {\n",
       "        vertical-align: top;\n",
       "    }\n",
       "\n",
       "    .dataframe thead th {\n",
       "        text-align: right;\n",
       "    }\n",
       "</style>\n",
       "<table border=\"1\" class=\"dataframe\">\n",
       "  <thead>\n",
       "    <tr style=\"text-align: right;\">\n",
       "      <th></th>\n",
       "      <th>rest_name</th>\n",
       "      <th>rest_type</th>\n",
       "      <th>loc</th>\n",
       "      <th>dine_rating</th>\n",
       "      <th>dine_reviews</th>\n",
       "      <th>delivery_rating</th>\n",
       "      <th>delivery_reviews</th>\n",
       "      <th>cuisine</th>\n",
       "      <th>Cost (RS)</th>\n",
       "      <th>cost</th>\n",
       "      <th>liked</th>\n",
       "    </tr>\n",
       "  </thead>\n",
       "  <tbody>\n",
       "    <tr>\n",
       "      <th>36</th>\n",
       "      <td>Zen Bar\\r\\r\\n</td>\n",
       "      <td>Bar</td>\n",
       "      <td>Hotel Mercure, Lavasa</td>\n",
       "      <td>0.0</td>\n",
       "      <td>NaN</td>\n",
       "      <td>NaN</td>\n",
       "      <td>NaN</td>\n",
       "      <td>Finger Food,</td>\n",
       "      <td>2400</td>\n",
       "      <td>Rs. 2400</td>\n",
       "      <td>NaN</td>\n",
       "    </tr>\n",
       "    <tr>\n",
       "      <th>96</th>\n",
       "      <td>The Chinese Restaurant\\r\\r\\n                  ...</td>\n",
       "      <td>Fine Dining</td>\n",
       "      <td>Mundhwa</td>\n",
       "      <td>0.0</td>\n",
       "      <td>NaN</td>\n",
       "      <td>NaN</td>\n",
       "      <td>NaN</td>\n",
       "      <td>Cantonese,Chinese,</td>\n",
       "      <td>2000</td>\n",
       "      <td>Rs. 2000</td>\n",
       "      <td>NaN</td>\n",
       "    </tr>\n",
       "    <tr>\n",
       "      <th>100</th>\n",
       "      <td>Fusion Fantasea\\r\\r\\n                         ...</td>\n",
       "      <td>Bar,Casual Dining</td>\n",
       "      <td>Erandwane</td>\n",
       "      <td>0.0</td>\n",
       "      <td>NaN</td>\n",
       "      <td>NaN</td>\n",
       "      <td>NaN</td>\n",
       "      <td>Chinese,Mughlai,Malwani,North Indian,Continental,</td>\n",
       "      <td>2000</td>\n",
       "      <td>Rs. 2000</td>\n",
       "      <td>NaN</td>\n",
       "    </tr>\n",
       "    <tr>\n",
       "      <th>102</th>\n",
       "      <td>The Bar Stock Exchange\\r\\r\\n                  ...</td>\n",
       "      <td>Pub,Casual Dining</td>\n",
       "      <td>FC Road</td>\n",
       "      <td>0.0</td>\n",
       "      <td>NaN</td>\n",
       "      <td>NaN</td>\n",
       "      <td>NaN</td>\n",
       "      <td>Italian,North Indian,Chinese,Continental,</td>\n",
       "      <td>1900</td>\n",
       "      <td>Rs. 1900</td>\n",
       "      <td>NaN</td>\n",
       "    </tr>\n",
       "    <tr>\n",
       "      <th>116</th>\n",
       "      <td>Asia Kitchen By Mainland China\\r\\r\\n          ...</td>\n",
       "      <td>NaN</td>\n",
       "      <td>Senapati Bapat Road</td>\n",
       "      <td>0.0</td>\n",
       "      <td>NaN</td>\n",
       "      <td>NaN</td>\n",
       "      <td>NaN</td>\n",
       "      <td>Chinese,Asian,</td>\n",
       "      <td>1800</td>\n",
       "      <td>Rs. 1800</td>\n",
       "      <td>NaN</td>\n",
       "    </tr>\n",
       "    <tr>\n",
       "      <th>...</th>\n",
       "      <td>...</td>\n",
       "      <td>...</td>\n",
       "      <td>...</td>\n",
       "      <td>...</td>\n",
       "      <td>...</td>\n",
       "      <td>...</td>\n",
       "      <td>...</td>\n",
       "      <td>...</td>\n",
       "      <td>...</td>\n",
       "      <td>...</td>\n",
       "      <td>...</td>\n",
       "    </tr>\n",
       "    <tr>\n",
       "      <th>5312</th>\n",
       "      <td>Super Meal\\r\\n                                ...</td>\n",
       "      <td>NaN</td>\n",
       "      <td>Shivaji Nagar</td>\n",
       "      <td>0.0</td>\n",
       "      <td>NaN</td>\n",
       "      <td>NaN</td>\n",
       "      <td>NaN</td>\n",
       "      <td>Biryani,North Indian,</td>\n",
       "      <td>350</td>\n",
       "      <td>Rs. 350</td>\n",
       "      <td>NaN</td>\n",
       "    </tr>\n",
       "    <tr>\n",
       "      <th>5355</th>\n",
       "      <td>Garawa Biryani\\r\\n                            ...</td>\n",
       "      <td>Quick Bites</td>\n",
       "      <td>Sadashiv Peth</td>\n",
       "      <td>0.0</td>\n",
       "      <td>NaN</td>\n",
       "      <td>NaN</td>\n",
       "      <td>NaN</td>\n",
       "      <td>Biryani,</td>\n",
       "      <td>250</td>\n",
       "      <td>Rs. 250</td>\n",
       "      <td>NaN</td>\n",
       "    </tr>\n",
       "    <tr>\n",
       "      <th>5399</th>\n",
       "      <td>Janta Khanaval\\r\\n                            ...</td>\n",
       "      <td>NaN</td>\n",
       "      <td>Narhe</td>\n",
       "      <td>0.0</td>\n",
       "      <td>NaN</td>\n",
       "      <td>NaN</td>\n",
       "      <td>NaN</td>\n",
       "      <td>Maharashtrian,</td>\n",
       "      <td>300</td>\n",
       "      <td>Rs. 300</td>\n",
       "      <td>NaN</td>\n",
       "    </tr>\n",
       "    <tr>\n",
       "      <th>5400</th>\n",
       "      <td>Taj 24/7\\r\\n</td>\n",
       "      <td>NaN</td>\n",
       "      <td>Kothrud</td>\n",
       "      <td>0.0</td>\n",
       "      <td>NaN</td>\n",
       "      <td>NaN</td>\n",
       "      <td>NaN</td>\n",
       "      <td>Beverages,South Indian,Street Food,</td>\n",
       "      <td>200</td>\n",
       "      <td>Rs. 200</td>\n",
       "      <td>NaN</td>\n",
       "    </tr>\n",
       "    <tr>\n",
       "      <th>5419</th>\n",
       "      <td>Homemade Meal Box - Snigdha\\r\\n               ...</td>\n",
       "      <td>NaN</td>\n",
       "      <td>Kondhwa</td>\n",
       "      <td>0.0</td>\n",
       "      <td>NaN</td>\n",
       "      <td>NaN</td>\n",
       "      <td>NaN</td>\n",
       "      <td>North Indian,</td>\n",
       "      <td>300</td>\n",
       "      <td>Rs. 300</td>\n",
       "      <td>NaN</td>\n",
       "    </tr>\n",
       "  </tbody>\n",
       "</table>\n",
       "<p>566 rows × 11 columns</p>\n",
       "</div>"
      ],
      "text/plain": [
       "                                              rest_name          rest_type  \\\n",
       "36    Zen Bar\\r\\r\\n                                                    Bar   \n",
       "96    The Chinese Restaurant\\r\\r\\n                  ...        Fine Dining   \n",
       "100   Fusion Fantasea\\r\\r\\n                         ...  Bar,Casual Dining   \n",
       "102   The Bar Stock Exchange\\r\\r\\n                  ...  Pub,Casual Dining   \n",
       "116   Asia Kitchen By Mainland China\\r\\r\\n          ...                NaN   \n",
       "...                                                 ...                ...   \n",
       "5312  Super Meal\\r\\n                                ...                NaN   \n",
       "5355  Garawa Biryani\\r\\n                            ...        Quick Bites   \n",
       "5399  Janta Khanaval\\r\\n                            ...                NaN   \n",
       "5400   Taj 24/7\\r\\n                                                    NaN   \n",
       "5419  Homemade Meal Box - Snigdha\\r\\n               ...                NaN   \n",
       "\n",
       "                        loc  dine_rating dine_reviews  delivery_rating  \\\n",
       "36    Hotel Mercure, Lavasa          0.0          NaN              NaN   \n",
       "96                  Mundhwa          0.0          NaN              NaN   \n",
       "100               Erandwane          0.0          NaN              NaN   \n",
       "102                 FC Road          0.0          NaN              NaN   \n",
       "116     Senapati Bapat Road          0.0          NaN              NaN   \n",
       "...                     ...          ...          ...              ...   \n",
       "5312          Shivaji Nagar          0.0          NaN              NaN   \n",
       "5355          Sadashiv Peth          0.0          NaN              NaN   \n",
       "5399                  Narhe          0.0          NaN              NaN   \n",
       "5400                Kothrud          0.0          NaN              NaN   \n",
       "5419                Kondhwa          0.0          NaN              NaN   \n",
       "\n",
       "     delivery_reviews                                            cuisine  \\\n",
       "36                NaN                                       Finger Food,   \n",
       "96                NaN                                 Cantonese,Chinese,   \n",
       "100               NaN  Chinese,Mughlai,Malwani,North Indian,Continental,   \n",
       "102               NaN          Italian,North Indian,Chinese,Continental,   \n",
       "116               NaN                                     Chinese,Asian,   \n",
       "...               ...                                                ...   \n",
       "5312              NaN                              Biryani,North Indian,   \n",
       "5355              NaN                                           Biryani,   \n",
       "5399              NaN                                     Maharashtrian,   \n",
       "5400              NaN                Beverages,South Indian,Street Food,   \n",
       "5419              NaN                                      North Indian,   \n",
       "\n",
       "      Cost (RS)      cost liked  \n",
       "36         2400  Rs. 2400   NaN  \n",
       "96         2000  Rs. 2000   NaN  \n",
       "100        2000  Rs. 2000   NaN  \n",
       "102        1900  Rs. 1900   NaN  \n",
       "116        1800  Rs. 1800   NaN  \n",
       "...         ...       ...   ...  \n",
       "5312        350   Rs. 350   NaN  \n",
       "5355        250   Rs. 250   NaN  \n",
       "5399        300   Rs. 300   NaN  \n",
       "5400        200   Rs. 200   NaN  \n",
       "5419        300   Rs. 300   NaN  \n",
       "\n",
       "[566 rows x 11 columns]"
      ]
     },
     "execution_count": 49,
     "metadata": {},
     "output_type": "execute_result"
    }
   ],
   "source": [
    "df_zero_rating=df[df['dine_rating']==0]\n",
    "df_zero_rating"
   ]
  },
  {
   "cell_type": "code",
   "execution_count": 50,
   "metadata": {},
   "outputs": [
    {
     "data": {
      "text/plain": [
       "(566, 11)"
      ]
     },
     "execution_count": 50,
     "metadata": {},
     "output_type": "execute_result"
    }
   ],
   "source": [
    "df_zero_rating.shape"
   ]
  },
  {
   "cell_type": "markdown",
   "metadata": {},
   "source": [
    "There are 566 restaurants which got 0 ratings on zomato, may be these are new restaurants or may be not very popular."
   ]
  },
  {
   "cell_type": "markdown",
   "metadata": {},
   "source": [
    "# TOP 10 RESTAURANTS LOCATION IN PUNE"
   ]
  },
  {
   "cell_type": "code",
   "execution_count": 51,
   "metadata": {},
   "outputs": [
    {
     "data": {
      "text/html": [
       "<div>\n",
       "<style scoped>\n",
       "    .dataframe tbody tr th:only-of-type {\n",
       "        vertical-align: middle;\n",
       "    }\n",
       "\n",
       "    .dataframe tbody tr th {\n",
       "        vertical-align: top;\n",
       "    }\n",
       "\n",
       "    .dataframe thead th {\n",
       "        text-align: right;\n",
       "    }\n",
       "</style>\n",
       "<table border=\"1\" class=\"dataframe\">\n",
       "  <thead>\n",
       "    <tr style=\"text-align: right;\">\n",
       "      <th></th>\n",
       "      <th>dine_rating</th>\n",
       "      <th>loc</th>\n",
       "    </tr>\n",
       "  </thead>\n",
       "  <tbody>\n",
       "    <tr>\n",
       "      <th>0</th>\n",
       "      <td>4.2</td>\n",
       "      <td>The Westin, Mundhwa</td>\n",
       "    </tr>\n",
       "    <tr>\n",
       "      <th>1</th>\n",
       "      <td>4.1</td>\n",
       "      <td>The Westin, Mundhwa</td>\n",
       "    </tr>\n",
       "    <tr>\n",
       "      <th>2</th>\n",
       "      <td>4.5</td>\n",
       "      <td>Conrad Pune, Bund Garden Road</td>\n",
       "    </tr>\n",
       "    <tr>\n",
       "      <th>3</th>\n",
       "      <td>4.0</td>\n",
       "      <td>The Westin, Mundhwa</td>\n",
       "    </tr>\n",
       "    <tr>\n",
       "      <th>4</th>\n",
       "      <td>3.9</td>\n",
       "      <td>Vivanta Pune, Hinjewadi</td>\n",
       "    </tr>\n",
       "    <tr>\n",
       "      <th>...</th>\n",
       "      <td>...</td>\n",
       "      <td>...</td>\n",
       "    </tr>\n",
       "    <tr>\n",
       "      <th>5428</th>\n",
       "      <td>3.1</td>\n",
       "      <td>Sinhgad Road</td>\n",
       "    </tr>\n",
       "    <tr>\n",
       "      <th>5429</th>\n",
       "      <td>2.9</td>\n",
       "      <td>Viman Nagar</td>\n",
       "    </tr>\n",
       "    <tr>\n",
       "      <th>5430</th>\n",
       "      <td>3.8</td>\n",
       "      <td>Pimpri</td>\n",
       "    </tr>\n",
       "    <tr>\n",
       "      <th>5431</th>\n",
       "      <td>3.1</td>\n",
       "      <td>Sadashiv Peth</td>\n",
       "    </tr>\n",
       "    <tr>\n",
       "      <th>5432</th>\n",
       "      <td>3.6</td>\n",
       "      <td>B.T. Kawade Road</td>\n",
       "    </tr>\n",
       "  </tbody>\n",
       "</table>\n",
       "<p>5183 rows × 2 columns</p>\n",
       "</div>"
      ],
      "text/plain": [
       "      dine_rating                            loc\n",
       "0             4.2            The Westin, Mundhwa\n",
       "1             4.1            The Westin, Mundhwa\n",
       "2             4.5  Conrad Pune, Bund Garden Road\n",
       "3             4.0            The Westin, Mundhwa\n",
       "4             3.9        Vivanta Pune, Hinjewadi\n",
       "...           ...                            ...\n",
       "5428          3.1                   Sinhgad Road\n",
       "5429          2.9                    Viman Nagar\n",
       "5430          3.8                         Pimpri\n",
       "5431          3.1                  Sadashiv Peth\n",
       "5432          3.6               B.T. Kawade Road\n",
       "\n",
       "[5183 rows x 2 columns]"
      ]
     },
     "execution_count": 51,
     "metadata": {},
     "output_type": "execute_result"
    }
   ],
   "source": [
    "df_locations=df[['dine_rating','loc']]\n",
    "df_locations"
   ]
  },
  {
   "cell_type": "code",
   "execution_count": 52,
   "metadata": {},
   "outputs": [
    {
     "data": {
      "text/html": [
       "<div>\n",
       "<style scoped>\n",
       "    .dataframe tbody tr th:only-of-type {\n",
       "        vertical-align: middle;\n",
       "    }\n",
       "\n",
       "    .dataframe tbody tr th {\n",
       "        vertical-align: top;\n",
       "    }\n",
       "\n",
       "    .dataframe thead th {\n",
       "        text-align: right;\n",
       "    }\n",
       "</style>\n",
       "<table border=\"1\" class=\"dataframe\">\n",
       "  <thead>\n",
       "    <tr style=\"text-align: right;\">\n",
       "      <th></th>\n",
       "      <th>dine_rating</th>\n",
       "      <th>loc</th>\n",
       "    </tr>\n",
       "  </thead>\n",
       "  <tbody>\n",
       "    <tr>\n",
       "      <th>2</th>\n",
       "      <td>4.5</td>\n",
       "      <td>Conrad Pune, Bund Garden Road</td>\n",
       "    </tr>\n",
       "    <tr>\n",
       "      <th>5</th>\n",
       "      <td>4.5</td>\n",
       "      <td>Hyatt Pune, Nagar Road</td>\n",
       "    </tr>\n",
       "    <tr>\n",
       "      <th>8</th>\n",
       "      <td>4.5</td>\n",
       "      <td>Sheraton Grand, Bund Garden Road</td>\n",
       "    </tr>\n",
       "    <tr>\n",
       "      <th>18</th>\n",
       "      <td>4.3</td>\n",
       "      <td>The Hyatt Regency, Nagar Road</td>\n",
       "    </tr>\n",
       "    <tr>\n",
       "      <th>21</th>\n",
       "      <td>4.8</td>\n",
       "      <td>JW Marriott Pune, Senapati Bapat Road</td>\n",
       "    </tr>\n",
       "    <tr>\n",
       "      <th>22</th>\n",
       "      <td>4.3</td>\n",
       "      <td>Crowne Plaza Pune City Centre, Bund Garden Road</td>\n",
       "    </tr>\n",
       "    <tr>\n",
       "      <th>25</th>\n",
       "      <td>4.4</td>\n",
       "      <td>JW Marriott Pune, Senapati Bapat Road</td>\n",
       "    </tr>\n",
       "    <tr>\n",
       "      <th>29</th>\n",
       "      <td>4.3</td>\n",
       "      <td>Blue Diamond, Koregaon Park</td>\n",
       "    </tr>\n",
       "    <tr>\n",
       "      <th>38</th>\n",
       "      <td>4.8</td>\n",
       "      <td>Koregaon Park</td>\n",
       "    </tr>\n",
       "    <tr>\n",
       "      <th>39</th>\n",
       "      <td>4.6</td>\n",
       "      <td>Mundhwa</td>\n",
       "    </tr>\n",
       "    <tr>\n",
       "      <th>40</th>\n",
       "      <td>4.3</td>\n",
       "      <td>Vivanta Pune, Hinjewadi</td>\n",
       "    </tr>\n",
       "    <tr>\n",
       "      <th>42</th>\n",
       "      <td>4.5</td>\n",
       "      <td>JW Marriott Pune, Senapati Bapat Road</td>\n",
       "    </tr>\n",
       "    <tr>\n",
       "      <th>43</th>\n",
       "      <td>4.4</td>\n",
       "      <td>East Street</td>\n",
       "    </tr>\n",
       "    <tr>\n",
       "      <th>49</th>\n",
       "      <td>4.9</td>\n",
       "      <td>Koregaon Park</td>\n",
       "    </tr>\n",
       "    <tr>\n",
       "      <th>52</th>\n",
       "      <td>4.4</td>\n",
       "      <td>Marriott Suites Pune</td>\n",
       "    </tr>\n",
       "    <tr>\n",
       "      <th>53</th>\n",
       "      <td>4.4</td>\n",
       "      <td>Della Adventure Resort</td>\n",
       "    </tr>\n",
       "    <tr>\n",
       "      <th>58</th>\n",
       "      <td>4.7</td>\n",
       "      <td>Baner</td>\n",
       "    </tr>\n",
       "    <tr>\n",
       "      <th>61</th>\n",
       "      <td>4.5</td>\n",
       "      <td>Bund Garden Road</td>\n",
       "    </tr>\n",
       "    <tr>\n",
       "      <th>63</th>\n",
       "      <td>4.5</td>\n",
       "      <td>Shivaji Nagar</td>\n",
       "    </tr>\n",
       "    <tr>\n",
       "      <th>65</th>\n",
       "      <td>4.4</td>\n",
       "      <td>ABC Farms,Mundhwa</td>\n",
       "    </tr>\n",
       "  </tbody>\n",
       "</table>\n",
       "</div>"
      ],
      "text/plain": [
       "    dine_rating                                              loc\n",
       "2           4.5                    Conrad Pune, Bund Garden Road\n",
       "5           4.5                           Hyatt Pune, Nagar Road\n",
       "8           4.5                 Sheraton Grand, Bund Garden Road\n",
       "18          4.3                    The Hyatt Regency, Nagar Road\n",
       "21          4.8            JW Marriott Pune, Senapati Bapat Road\n",
       "22          4.3  Crowne Plaza Pune City Centre, Bund Garden Road\n",
       "25          4.4            JW Marriott Pune, Senapati Bapat Road\n",
       "29          4.3                      Blue Diamond, Koregaon Park\n",
       "38          4.8                                    Koregaon Park\n",
       "39          4.6                                          Mundhwa\n",
       "40          4.3                          Vivanta Pune, Hinjewadi\n",
       "42          4.5            JW Marriott Pune, Senapati Bapat Road\n",
       "43          4.4                                      East Street\n",
       "49          4.9                                    Koregaon Park\n",
       "52          4.4                             Marriott Suites Pune\n",
       "53          4.4                           Della Adventure Resort\n",
       "58          4.7                                            Baner\n",
       "61          4.5                                 Bund Garden Road\n",
       "63          4.5                                    Shivaji Nagar\n",
       "65          4.4                                ABC Farms,Mundhwa"
      ]
     },
     "execution_count": 52,
     "metadata": {},
     "output_type": "execute_result"
    }
   ],
   "source": [
    "best_rest=df_locations[df_locations[\"dine_rating\"]>4.2]\n",
    "best_rest.head(20)"
   ]
  },
  {
   "cell_type": "code",
   "execution_count": 53,
   "metadata": {},
   "outputs": [
    {
     "data": {
      "text/plain": [
       "(439, 2)"
      ]
     },
     "execution_count": 53,
     "metadata": {},
     "output_type": "execute_result"
    }
   ],
   "source": [
    "best_rest.shape"
   ]
  },
  {
   "cell_type": "code",
   "execution_count": 54,
   "metadata": {},
   "outputs": [
    {
     "name": "stdout",
     "output_type": "stream",
     "text": [
      "<pandas.core.groupby.generic.DataFrameGroupBy object at 0x000001B0CB83D5D0>\n"
     ]
    }
   ],
   "source": [
    "a=best_rest.groupby(\"loc\")\n",
    "print(a)"
   ]
  },
  {
   "cell_type": "code",
   "execution_count": 55,
   "metadata": {},
   "outputs": [
    {
     "name": "stdout",
     "output_type": "stream",
     "text": [
      "loc\n",
      "ABC Farms,Mundhwa                 2\n",
      "Akurdi                            1\n",
      "Amanora Town Centre, Hadapsar     4\n",
      "Aundh                            17\n",
      "Balewadi                          3\n",
      "                                 ..\n",
      "Wagholi                           1\n",
      "Wakad                            11\n",
      "Wanowrie                          2\n",
      "Warje                             1\n",
      "Yerawada                          1\n",
      "Length: 91, dtype: int64\n",
      "<class 'pandas.core.series.Series'>\n"
     ]
    }
   ],
   "source": [
    "location_wise_best_Restaurant=a.size()\n",
    "print(location_wise_best_Restaurant)\n",
    "print(type(location_wise_best_Restaurant))"
   ]
  },
  {
   "cell_type": "code",
   "execution_count": 56,
   "metadata": {
    "scrolled": true
   },
   "outputs": [
    {
     "data": {
      "text/plain": [
       "loc\n",
       "Koregaon Park                         47\n",
       "Kothrud                               26\n",
       "Baner                                 25\n",
       "Kalyani Nagar                         23\n",
       "Viman Nagar                           21\n",
       "                                      ..\n",
       "Pashan                                 1\n",
       "Pimple Gurav                           1\n",
       "Pimpri                                 1\n",
       "Pubtown, Creaticity Mall, Yerawada     1\n",
       "Yerawada                               1\n",
       "Length: 91, dtype: int64"
      ]
     },
     "execution_count": 56,
     "metadata": {},
     "output_type": "execute_result"
    }
   ],
   "source": [
    "location_wise_best=location_wise_best_Restaurant.sort_values(ascending=False)\n",
    "a=location_wise_best[:10]\n",
    "\n",
    "location_wise_best"
   ]
  },
  {
   "cell_type": "code",
   "execution_count": 57,
   "metadata": {},
   "outputs": [
    {
     "data": {
      "text/plain": [
       "<AxesSubplot:ylabel='loc'>"
      ]
     },
     "execution_count": 57,
     "metadata": {},
     "output_type": "execute_result"
    },
    {
     "data": {
      "image/png": "[encoded data removed]",
      "text/plain": [
       "<Figure size 432x288 with 1 Axes>"
      ]
     },
     "metadata": {
      "needs_background": "light"
     },
     "output_type": "display_data"
    }
   ],
   "source": [
    "#bar plot\n",
    "\n",
    "sns.barplot(x=a,y=a.index)\n",
    "\n"
   ]
  },
  {
   "cell_type": "code",
   "execution_count": 58,
   "metadata": {},
   "outputs": [],
   "source": [
    "#total number of restaurant by location\n",
    "\n",
    "Number_of_location=df[['loc','dine_rating']]\n",
    "a=Number_of_location.groupby(\"loc\")\n",
    "rest_per_location=a.size()\n",
    "\n"
   ]
  },
  {
   "cell_type": "code",
   "execution_count": 59,
   "metadata": {},
   "outputs": [
    {
     "data": {
      "text/plain": [
       "loc\n",
       "Kothrud                           264\n",
       "Wakad                             225\n",
       "Viman Nagar                       224\n",
       "Baner                             219\n",
       "Hinjawadi                         213\n",
       "                                 ... \n",
       "Rahul Complex, Kothrud              1\n",
       "Bopkhel                             1\n",
       "St Laurn Hotel, Koregaon Park       1\n",
       "Super Mall                          1\n",
       " Hotel Satish Executive, Wakad      1\n",
       "Length: 193, dtype: int64"
      ]
     },
     "execution_count": 59,
     "metadata": {},
     "output_type": "execute_result"
    }
   ],
   "source": [
    "rest_per_location=rest_per_location.sort_values(ascending=False)\n",
    "rest_per_location"
   ]
  },
  {
   "cell_type": "code",
   "execution_count": 60,
   "metadata": {},
   "outputs": [
    {
     "data": {
      "text/plain": [
       "loc\n",
       "Kothrud            264\n",
       "Wakad              225\n",
       "Viman Nagar        224\n",
       "Baner              219\n",
       "Hinjawadi          213\n",
       "Hadapsar           183\n",
       "Kharadi            180\n",
       "Sinhgad Road       142\n",
       "Pimple Saudagar    134\n",
       "Koregaon Park      123\n",
       "dtype: int64"
      ]
     },
     "execution_count": 60,
     "metadata": {},
     "output_type": "execute_result"
    }
   ],
   "source": [
    "rest_per_location[:10]"
   ]
  },
  {
   "cell_type": "code",
   "execution_count": 61,
   "metadata": {},
   "outputs": [],
   "source": [
    "#now we want to find \n",
    "#(number of rest which got more than 4.2/ total number of rest) per location\n",
    "#we are concatinating two series together\n",
    "frames=[rest_per_location,location_wise_best]\n",
    "data_n=pd.concat(\n",
    "    frames,\n",
    "    axis=1,\n",
    "    join=\"inner\",\n",
    "    ignore_index=False,\n",
    "    copy=True,\n",
    ")"
   ]
  },
  {
   "cell_type": "code",
   "execution_count": 62,
   "metadata": {},
   "outputs": [
    {
     "data": {
      "text/html": [
       "<div>\n",
       "<style scoped>\n",
       "    .dataframe tbody tr th:only-of-type {\n",
       "        vertical-align: middle;\n",
       "    }\n",
       "\n",
       "    .dataframe tbody tr th {\n",
       "        vertical-align: top;\n",
       "    }\n",
       "\n",
       "    .dataframe thead th {\n",
       "        text-align: right;\n",
       "    }\n",
       "</style>\n",
       "<table border=\"1\" class=\"dataframe\">\n",
       "  <thead>\n",
       "    <tr style=\"text-align: right;\">\n",
       "      <th></th>\n",
       "      <th>0</th>\n",
       "      <th>1</th>\n",
       "    </tr>\n",
       "    <tr>\n",
       "      <th>loc</th>\n",
       "      <th></th>\n",
       "      <th></th>\n",
       "    </tr>\n",
       "  </thead>\n",
       "  <tbody>\n",
       "    <tr>\n",
       "      <th>Kothrud</th>\n",
       "      <td>264</td>\n",
       "      <td>26</td>\n",
       "    </tr>\n",
       "    <tr>\n",
       "      <th>Wakad</th>\n",
       "      <td>225</td>\n",
       "      <td>11</td>\n",
       "    </tr>\n",
       "    <tr>\n",
       "      <th>Viman Nagar</th>\n",
       "      <td>224</td>\n",
       "      <td>21</td>\n",
       "    </tr>\n",
       "    <tr>\n",
       "      <th>Baner</th>\n",
       "      <td>219</td>\n",
       "      <td>25</td>\n",
       "    </tr>\n",
       "    <tr>\n",
       "      <th>Hinjawadi</th>\n",
       "      <td>213</td>\n",
       "      <td>7</td>\n",
       "    </tr>\n",
       "    <tr>\n",
       "      <th>...</th>\n",
       "      <td>...</td>\n",
       "      <td>...</td>\n",
       "    </tr>\n",
       "    <tr>\n",
       "      <th>The Mills, Bund Garden Road</th>\n",
       "      <td>1</td>\n",
       "      <td>1</td>\n",
       "    </tr>\n",
       "    <tr>\n",
       "      <th>The E-Square Hotel, Shivaji Nagar</th>\n",
       "      <td>1</td>\n",
       "      <td>1</td>\n",
       "    </tr>\n",
       "    <tr>\n",
       "      <th>Creaticity Mall, Yerawada</th>\n",
       "      <td>1</td>\n",
       "      <td>1</td>\n",
       "    </tr>\n",
       "    <tr>\n",
       "      <th>Panchshil Tech Park, Yerawada</th>\n",
       "      <td>1</td>\n",
       "      <td>1</td>\n",
       "    </tr>\n",
       "    <tr>\n",
       "      <th>Parichay Hotel, FC Road</th>\n",
       "      <td>1</td>\n",
       "      <td>1</td>\n",
       "    </tr>\n",
       "  </tbody>\n",
       "</table>\n",
       "<p>91 rows × 2 columns</p>\n",
       "</div>"
      ],
      "text/plain": [
       "                                     0   1\n",
       "loc                                       \n",
       "Kothrud                            264  26\n",
       "Wakad                              225  11\n",
       "Viman Nagar                        224  21\n",
       "Baner                              219  25\n",
       "Hinjawadi                          213   7\n",
       "...                                ...  ..\n",
       "The Mills, Bund Garden Road          1   1\n",
       "The E-Square Hotel, Shivaji Nagar    1   1\n",
       "Creaticity Mall, Yerawada            1   1\n",
       "Panchshil Tech Park, Yerawada        1   1\n",
       "Parichay Hotel, FC Road              1   1\n",
       "\n",
       "[91 rows x 2 columns]"
      ]
     },
     "execution_count": 62,
     "metadata": {},
     "output_type": "execute_result"
    }
   ],
   "source": [
    "data_n"
   ]
  },
  {
   "cell_type": "code",
   "execution_count": 63,
   "metadata": {},
   "outputs": [
    {
     "data": {
      "text/plain": [
       "loc\n",
       "Kothrud                              264\n",
       "Wakad                                225\n",
       "Viman Nagar                          224\n",
       "Baner                                219\n",
       "Hinjawadi                            213\n",
       "                                    ... \n",
       "The Mills, Bund Garden Road            1\n",
       "The E-Square Hotel, Shivaji Nagar      1\n",
       "Creaticity Mall, Yerawada              1\n",
       "Panchshil Tech Park, Yerawada          1\n",
       "Parichay Hotel, FC Road                1\n",
       "Name: 0, Length: 91, dtype: int64"
      ]
     },
     "execution_count": 63,
     "metadata": {},
     "output_type": "execute_result"
    }
   ],
   "source": [
    "data_n[0]"
   ]
  },
  {
   "cell_type": "code",
   "execution_count": 64,
   "metadata": {},
   "outputs": [
    {
     "name": "stdout",
     "output_type": "stream",
     "text": [
      "91\n"
     ]
    }
   ],
   "source": [
    "print(len(data_n[0].values))"
   ]
  },
  {
   "cell_type": "code",
   "execution_count": 65,
   "metadata": {},
   "outputs": [],
   "source": [
    "data_n['popularity_percentage']=list(map(lambda t: (t[1]/t[0])*100, zip(data_n[0], data_n[1])))\n"
   ]
  },
  {
   "cell_type": "code",
   "execution_count": 66,
   "metadata": {},
   "outputs": [
    {
     "data": {
      "text/html": [
       "<div>\n",
       "<style scoped>\n",
       "    .dataframe tbody tr th:only-of-type {\n",
       "        vertical-align: middle;\n",
       "    }\n",
       "\n",
       "    .dataframe tbody tr th {\n",
       "        vertical-align: top;\n",
       "    }\n",
       "\n",
       "    .dataframe thead th {\n",
       "        text-align: right;\n",
       "    }\n",
       "</style>\n",
       "<table border=\"1\" class=\"dataframe\">\n",
       "  <thead>\n",
       "    <tr style=\"text-align: right;\">\n",
       "      <th></th>\n",
       "      <th>0</th>\n",
       "      <th>1</th>\n",
       "      <th>popularity_percentage</th>\n",
       "    </tr>\n",
       "    <tr>\n",
       "      <th>loc</th>\n",
       "      <th></th>\n",
       "      <th></th>\n",
       "      <th></th>\n",
       "    </tr>\n",
       "  </thead>\n",
       "  <tbody>\n",
       "    <tr>\n",
       "      <th>Kothrud</th>\n",
       "      <td>264</td>\n",
       "      <td>26</td>\n",
       "      <td>9.848485</td>\n",
       "    </tr>\n",
       "    <tr>\n",
       "      <th>Wakad</th>\n",
       "      <td>225</td>\n",
       "      <td>11</td>\n",
       "      <td>4.888889</td>\n",
       "    </tr>\n",
       "    <tr>\n",
       "      <th>Viman Nagar</th>\n",
       "      <td>224</td>\n",
       "      <td>21</td>\n",
       "      <td>9.375000</td>\n",
       "    </tr>\n",
       "    <tr>\n",
       "      <th>Baner</th>\n",
       "      <td>219</td>\n",
       "      <td>25</td>\n",
       "      <td>11.415525</td>\n",
       "    </tr>\n",
       "    <tr>\n",
       "      <th>Hinjawadi</th>\n",
       "      <td>213</td>\n",
       "      <td>7</td>\n",
       "      <td>3.286385</td>\n",
       "    </tr>\n",
       "    <tr>\n",
       "      <th>...</th>\n",
       "      <td>...</td>\n",
       "      <td>...</td>\n",
       "      <td>...</td>\n",
       "    </tr>\n",
       "    <tr>\n",
       "      <th>The Mills, Bund Garden Road</th>\n",
       "      <td>1</td>\n",
       "      <td>1</td>\n",
       "      <td>100.000000</td>\n",
       "    </tr>\n",
       "    <tr>\n",
       "      <th>The E-Square Hotel, Shivaji Nagar</th>\n",
       "      <td>1</td>\n",
       "      <td>1</td>\n",
       "      <td>100.000000</td>\n",
       "    </tr>\n",
       "    <tr>\n",
       "      <th>Creaticity Mall, Yerawada</th>\n",
       "      <td>1</td>\n",
       "      <td>1</td>\n",
       "      <td>100.000000</td>\n",
       "    </tr>\n",
       "    <tr>\n",
       "      <th>Panchshil Tech Park, Yerawada</th>\n",
       "      <td>1</td>\n",
       "      <td>1</td>\n",
       "      <td>100.000000</td>\n",
       "    </tr>\n",
       "    <tr>\n",
       "      <th>Parichay Hotel, FC Road</th>\n",
       "      <td>1</td>\n",
       "      <td>1</td>\n",
       "      <td>100.000000</td>\n",
       "    </tr>\n",
       "  </tbody>\n",
       "</table>\n",
       "<p>91 rows × 3 columns</p>\n",
       "</div>"
      ],
      "text/plain": [
       "                                     0   1  popularity_percentage\n",
       "loc                                                              \n",
       "Kothrud                            264  26               9.848485\n",
       "Wakad                              225  11               4.888889\n",
       "Viman Nagar                        224  21               9.375000\n",
       "Baner                              219  25              11.415525\n",
       "Hinjawadi                          213   7               3.286385\n",
       "...                                ...  ..                    ...\n",
       "The Mills, Bund Garden Road          1   1             100.000000\n",
       "The E-Square Hotel, Shivaji Nagar    1   1             100.000000\n",
       "Creaticity Mall, Yerawada            1   1             100.000000\n",
       "Panchshil Tech Park, Yerawada        1   1             100.000000\n",
       "Parichay Hotel, FC Road              1   1             100.000000\n",
       "\n",
       "[91 rows x 3 columns]"
      ]
     },
     "execution_count": 66,
     "metadata": {},
     "output_type": "execute_result"
    }
   ],
   "source": [
    "data_n"
   ]
  },
  {
   "cell_type": "code",
   "execution_count": 67,
   "metadata": {},
   "outputs": [],
   "source": [
    "data_updated=data_n[data_n[0]>100]"
   ]
  },
  {
   "cell_type": "code",
   "execution_count": 68,
   "metadata": {},
   "outputs": [
    {
     "data": {
      "text/html": [
       "<div>\n",
       "<style scoped>\n",
       "    .dataframe tbody tr th:only-of-type {\n",
       "        vertical-align: middle;\n",
       "    }\n",
       "\n",
       "    .dataframe tbody tr th {\n",
       "        vertical-align: top;\n",
       "    }\n",
       "\n",
       "    .dataframe thead th {\n",
       "        text-align: right;\n",
       "    }\n",
       "</style>\n",
       "<table border=\"1\" class=\"dataframe\">\n",
       "  <thead>\n",
       "    <tr style=\"text-align: right;\">\n",
       "      <th></th>\n",
       "      <th>0</th>\n",
       "      <th>1</th>\n",
       "      <th>popularity_percentage</th>\n",
       "    </tr>\n",
       "    <tr>\n",
       "      <th>loc</th>\n",
       "      <th></th>\n",
       "      <th></th>\n",
       "      <th></th>\n",
       "    </tr>\n",
       "  </thead>\n",
       "  <tbody>\n",
       "    <tr>\n",
       "      <th>Kothrud</th>\n",
       "      <td>264</td>\n",
       "      <td>26</td>\n",
       "      <td>9.848485</td>\n",
       "    </tr>\n",
       "    <tr>\n",
       "      <th>Wakad</th>\n",
       "      <td>225</td>\n",
       "      <td>11</td>\n",
       "      <td>4.888889</td>\n",
       "    </tr>\n",
       "    <tr>\n",
       "      <th>Viman Nagar</th>\n",
       "      <td>224</td>\n",
       "      <td>21</td>\n",
       "      <td>9.375000</td>\n",
       "    </tr>\n",
       "    <tr>\n",
       "      <th>Baner</th>\n",
       "      <td>219</td>\n",
       "      <td>25</td>\n",
       "      <td>11.415525</td>\n",
       "    </tr>\n",
       "    <tr>\n",
       "      <th>Hinjawadi</th>\n",
       "      <td>213</td>\n",
       "      <td>7</td>\n",
       "      <td>3.286385</td>\n",
       "    </tr>\n",
       "    <tr>\n",
       "      <th>Hadapsar</th>\n",
       "      <td>183</td>\n",
       "      <td>3</td>\n",
       "      <td>1.639344</td>\n",
       "    </tr>\n",
       "    <tr>\n",
       "      <th>Kharadi</th>\n",
       "      <td>180</td>\n",
       "      <td>8</td>\n",
       "      <td>4.444444</td>\n",
       "    </tr>\n",
       "    <tr>\n",
       "      <th>Sinhgad Road</th>\n",
       "      <td>142</td>\n",
       "      <td>6</td>\n",
       "      <td>4.225352</td>\n",
       "    </tr>\n",
       "    <tr>\n",
       "      <th>Pimple Saudagar</th>\n",
       "      <td>134</td>\n",
       "      <td>7</td>\n",
       "      <td>5.223881</td>\n",
       "    </tr>\n",
       "    <tr>\n",
       "      <th>Koregaon Park</th>\n",
       "      <td>123</td>\n",
       "      <td>47</td>\n",
       "      <td>38.211382</td>\n",
       "    </tr>\n",
       "    <tr>\n",
       "      <th>Chinchwad</th>\n",
       "      <td>114</td>\n",
       "      <td>2</td>\n",
       "      <td>1.754386</td>\n",
       "    </tr>\n",
       "    <tr>\n",
       "      <th>Aundh</th>\n",
       "      <td>113</td>\n",
       "      <td>17</td>\n",
       "      <td>15.044248</td>\n",
       "    </tr>\n",
       "    <tr>\n",
       "      <th>Kondhwa</th>\n",
       "      <td>104</td>\n",
       "      <td>4</td>\n",
       "      <td>3.846154</td>\n",
       "    </tr>\n",
       "  </tbody>\n",
       "</table>\n",
       "</div>"
      ],
      "text/plain": [
       "                   0   1  popularity_percentage\n",
       "loc                                            \n",
       "Kothrud          264  26               9.848485\n",
       "Wakad            225  11               4.888889\n",
       "Viman Nagar      224  21               9.375000\n",
       "Baner            219  25              11.415525\n",
       "Hinjawadi        213   7               3.286385\n",
       "Hadapsar         183   3               1.639344\n",
       "Kharadi          180   8               4.444444\n",
       "Sinhgad Road     142   6               4.225352\n",
       "Pimple Saudagar  134   7               5.223881\n",
       "Koregaon Park    123  47              38.211382\n",
       "Chinchwad        114   2               1.754386\n",
       "Aundh            113  17              15.044248\n",
       "Kondhwa          104   4               3.846154"
      ]
     },
     "execution_count": 68,
     "metadata": {},
     "output_type": "execute_result"
    }
   ],
   "source": [
    "data_updated"
   ]
  },
  {
   "cell_type": "code",
   "execution_count": 69,
   "metadata": {},
   "outputs": [],
   "source": [
    "data_updated=data_updated.sort_values(by=\"popularity_percentage\",ascending=False)"
   ]
  },
  {
   "cell_type": "code",
   "execution_count": 70,
   "metadata": {},
   "outputs": [
    {
     "data": {
      "text/html": [
       "<div>\n",
       "<style scoped>\n",
       "    .dataframe tbody tr th:only-of-type {\n",
       "        vertical-align: middle;\n",
       "    }\n",
       "\n",
       "    .dataframe tbody tr th {\n",
       "        vertical-align: top;\n",
       "    }\n",
       "\n",
       "    .dataframe thead th {\n",
       "        text-align: right;\n",
       "    }\n",
       "</style>\n",
       "<table border=\"1\" class=\"dataframe\">\n",
       "  <thead>\n",
       "    <tr style=\"text-align: right;\">\n",
       "      <th></th>\n",
       "      <th>0</th>\n",
       "      <th>1</th>\n",
       "      <th>popularity_percentage</th>\n",
       "    </tr>\n",
       "    <tr>\n",
       "      <th>loc</th>\n",
       "      <th></th>\n",
       "      <th></th>\n",
       "      <th></th>\n",
       "    </tr>\n",
       "  </thead>\n",
       "  <tbody>\n",
       "    <tr>\n",
       "      <th>Koregaon Park</th>\n",
       "      <td>123</td>\n",
       "      <td>47</td>\n",
       "      <td>38.211382</td>\n",
       "    </tr>\n",
       "    <tr>\n",
       "      <th>Aundh</th>\n",
       "      <td>113</td>\n",
       "      <td>17</td>\n",
       "      <td>15.044248</td>\n",
       "    </tr>\n",
       "    <tr>\n",
       "      <th>Baner</th>\n",
       "      <td>219</td>\n",
       "      <td>25</td>\n",
       "      <td>11.415525</td>\n",
       "    </tr>\n",
       "    <tr>\n",
       "      <th>Kothrud</th>\n",
       "      <td>264</td>\n",
       "      <td>26</td>\n",
       "      <td>9.848485</td>\n",
       "    </tr>\n",
       "    <tr>\n",
       "      <th>Viman Nagar</th>\n",
       "      <td>224</td>\n",
       "      <td>21</td>\n",
       "      <td>9.375000</td>\n",
       "    </tr>\n",
       "    <tr>\n",
       "      <th>Pimple Saudagar</th>\n",
       "      <td>134</td>\n",
       "      <td>7</td>\n",
       "      <td>5.223881</td>\n",
       "    </tr>\n",
       "    <tr>\n",
       "      <th>Wakad</th>\n",
       "      <td>225</td>\n",
       "      <td>11</td>\n",
       "      <td>4.888889</td>\n",
       "    </tr>\n",
       "    <tr>\n",
       "      <th>Kharadi</th>\n",
       "      <td>180</td>\n",
       "      <td>8</td>\n",
       "      <td>4.444444</td>\n",
       "    </tr>\n",
       "    <tr>\n",
       "      <th>Sinhgad Road</th>\n",
       "      <td>142</td>\n",
       "      <td>6</td>\n",
       "      <td>4.225352</td>\n",
       "    </tr>\n",
       "    <tr>\n",
       "      <th>Kondhwa</th>\n",
       "      <td>104</td>\n",
       "      <td>4</td>\n",
       "      <td>3.846154</td>\n",
       "    </tr>\n",
       "    <tr>\n",
       "      <th>Hinjawadi</th>\n",
       "      <td>213</td>\n",
       "      <td>7</td>\n",
       "      <td>3.286385</td>\n",
       "    </tr>\n",
       "    <tr>\n",
       "      <th>Chinchwad</th>\n",
       "      <td>114</td>\n",
       "      <td>2</td>\n",
       "      <td>1.754386</td>\n",
       "    </tr>\n",
       "    <tr>\n",
       "      <th>Hadapsar</th>\n",
       "      <td>183</td>\n",
       "      <td>3</td>\n",
       "      <td>1.639344</td>\n",
       "    </tr>\n",
       "  </tbody>\n",
       "</table>\n",
       "</div>"
      ],
      "text/plain": [
       "                   0   1  popularity_percentage\n",
       "loc                                            \n",
       "Koregaon Park    123  47              38.211382\n",
       "Aundh            113  17              15.044248\n",
       "Baner            219  25              11.415525\n",
       "Kothrud          264  26               9.848485\n",
       "Viman Nagar      224  21               9.375000\n",
       "Pimple Saudagar  134   7               5.223881\n",
       "Wakad            225  11               4.888889\n",
       "Kharadi          180   8               4.444444\n",
       "Sinhgad Road     142   6               4.225352\n",
       "Kondhwa          104   4               3.846154\n",
       "Hinjawadi        213   7               3.286385\n",
       "Chinchwad        114   2               1.754386\n",
       "Hadapsar         183   3               1.639344"
      ]
     },
     "execution_count": 70,
     "metadata": {},
     "output_type": "execute_result"
    }
   ],
   "source": [
    "data_updated"
   ]
  },
  {
   "cell_type": "code",
   "execution_count": 71,
   "metadata": {},
   "outputs": [
    {
     "data": {
      "text/plain": [
       "<AxesSubplot:xlabel='popularity_percentage', ylabel='loc'>"
      ]
     },
     "execution_count": 71,
     "metadata": {},
     "output_type": "execute_result"
    },
    {
     "data": {
      "image/png": "[encoded data removed]",
      "text/plain": [
       "<Figure size 432x288 with 1 Axes>"
      ]
     },
     "metadata": {
      "needs_background": "light"
     },
     "output_type": "display_data"
    }
   ],
   "source": [
    "sns.barplot(data_updated['popularity_percentage'],data_updated.index)"
   ]
  },
  {
   "cell_type": "markdown",
   "metadata": {},
   "source": [
    "These are the best locations in pune where find the high rated restaurants\n",
    "\n",
    "Koregaun Park has the highest popuarity percentage out of all the locations in pune"
   ]
  },
  {
   "cell_type": "markdown",
   "metadata": {},
   "source": [
    "# THE END\n"
   ]
  },
  {
   "cell_type": "code",
   "execution_count": null,
   "metadata": {},
   "outputs": [],
   "source": []
  }
 ],
 "metadata": {
  "kernelspec": {
   "display_name": "Python 3 (ipykernel)",
   "language": "python",
   "name": "python3"
  },
  "language_info": {
   "codemirror_mode": {
    "name": "ipython",
    "version": 3
   },
   "file_extension": ".py",
   "mimetype": "text/x-python",
   "name": "python",
   "nbconvert_exporter": "python",
   "pygments_lexer": "ipython3",
   "version": "3.10.2"
  }
 },
 "nbformat": 4,
 "nbformat_minor": 4
}
